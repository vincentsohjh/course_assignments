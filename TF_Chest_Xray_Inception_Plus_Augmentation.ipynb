{
 "cells": [
  {
   "cell_type": "markdown",
   "metadata": {
    "colab_type": "text",
    "id": "hxaMcwNSPI9C"
   },
   "source": [
    "## Testing for GPU"
   ]
  },
  {
   "cell_type": "code",
   "execution_count": 1,
   "metadata": {
    "colab": {
     "base_uri": "https://localhost:8080/",
     "height": 34
    },
    "colab_type": "code",
    "id": "k6-0v5_vPVE6",
    "outputId": "a1a21a54-32fb-4a90-fca0-05ab6c94f3e1"
   },
   "outputs": [
    {
     "name": "stdout",
     "output_type": "stream",
     "text": [
      "Found GPU at: /device:GPU:0\n"
     ]
    }
   ],
   "source": [
    "import tensorflow as tf\n",
    "device_name = tf.test.gpu_device_name()\n",
    "if device_name != '/device:GPU:0':\n",
    "  raise SystemError('GPU device not found')\n",
    "print('Found GPU at: {}'.format(device_name))"
   ]
  },
  {
   "cell_type": "markdown",
   "metadata": {
    "colab_type": "text",
    "id": "jqRWO_qUPWK7"
   },
   "source": [
    "## Import Libraries"
   ]
  },
  {
   "cell_type": "code",
   "execution_count": 2,
   "metadata": {
    "colab": {},
    "colab_type": "code",
    "id": "qFdpXsMyPdHu"
   },
   "outputs": [],
   "source": [
    "import pandas as pd\n",
    "import numpy as np\n",
    "import os\n",
    "import time\n",
    "import random\n",
    "import matplotlib.pyplot as plt\n",
    "%matplotlib inline\n",
    "from glob import glob"
   ]
  },
  {
   "cell_type": "code",
   "execution_count": 4,
   "metadata": {
    "colab": {},
    "colab_type": "code",
    "id": "qj1xhSJu19ZF"
   },
   "outputs": [
    {
     "name": "stderr",
     "output_type": "stream",
     "text": [
      "Using TensorFlow backend.\n"
     ]
    }
   ],
   "source": [
    "%matplotlib inline\n",
    "\n",
    "import os, json\n",
    "from glob import glob\n",
    "import numpy as np\n",
    "\n",
    "import keras\n",
    "\n",
    "from tensorflow.keras import optimizers\n",
    "\n",
    "from tensorflow.keras.applications import InceptionV3\n",
    "from tensorflow.keras.applications.vgg16 import VGG16\n",
    "\n",
    "\n",
    "from tensorflow.python.keras.preprocessing import image\n",
    "from tensorflow.python.keras.preprocessing.image import ImageDataGenerator\n",
    "\n",
    "from tensorflow.python.keras.models import Model,load_model,Sequential\n",
    "\n",
    "from tensorflow.python.keras.layers import Dense, GlobalAveragePooling2D, Dropout,Flatten, Input, Conv2D, MaxPooling2D, Dropout, Flatten\n",
    "from tensorflow.python.keras import backend as K\n",
    "\n",
    "from tensorflow.keras.callbacks import ModelCheckpoint, Callback, ReduceLROnPlateau, EarlyStopping"
   ]
  },
  {
   "cell_type": "code",
   "execution_count": 7,
   "metadata": {
    "colab": {},
    "colab_type": "code",
    "id": "sgyYrPcdPrOH"
   },
   "outputs": [],
   "source": [
    "import cv2\n",
    "import seaborn as sns\n",
    "# import shapely.wkt\n",
    "# import shapely.affinity\n",
    "# from shapely.geometry import MultiPolygon, Polygon\n",
    "# from collections import defaultdict\n",
    "# from shapely.wkt import loads as wkt_loads\n",
    "# import tifffile as tiff"
   ]
  },
  {
   "cell_type": "markdown",
   "metadata": {
    "colab_type": "text",
    "id": "JWJNS5m6Puya"
   },
   "source": [
    "## Import kaggle dataset\n",
    "### Use only for Colab or without preloaded datasets"
   ]
  },
  {
   "cell_type": "code",
   "execution_count": 8,
   "metadata": {
    "colab": {},
    "colab_type": "code",
    "id": "NU2iTLmJQu1e"
   },
   "outputs": [],
   "source": [
    "# Next, install the Kaggle API client.\n",
    "# !pip install -q kaggle"
   ]
  },
  {
   "cell_type": "code",
   "execution_count": 9,
   "metadata": {
    "colab": {
     "base_uri": "https://localhost:8080/",
     "height": 34
    },
    "colab_type": "code",
    "id": "NVua5Y7LjIYN",
    "outputId": "ba2cacb6-93f6-4a08-8285-d3e1c56b7cd1"
   },
   "outputs": [],
   "source": [
    "# !ls"
   ]
  },
  {
   "cell_type": "code",
   "execution_count": 10,
   "metadata": {
    "colab": {
     "base_uri": "https://localhost:8080/",
     "height": 55,
     "resources": {
      "http://localhost:8080/nbextensions/google.colab/files.js": {
       "data": "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",
       "headers": [
        [
         "content-type",
         "application/javascript"
        ]
       ],
       "ok": true,
       "status": 200,
       "status_text": ""
      }
     }
    },
    "colab_type": "code",
    "id": "ak0VX1f9PzwT",
    "outputId": "f849fa12-d288-4c35-8345-0b7ab387b58c"
   },
   "outputs": [],
   "source": [
    "# from google.colab import files\n",
    "# files.upload()"
   ]
  },
  {
   "cell_type": "code",
   "execution_count": 11,
   "metadata": {
    "colab": {},
    "colab_type": "code",
    "id": "T72OohffQL4F"
   },
   "outputs": [],
   "source": [
    "# # The Kaggle API client expects this file to be in ~/.kaggle,\n",
    "# # so move it there.\n",
    "# !mkdir -p ~/.kaggle\n",
    "# !mv kaggle.json ~/.kaggle/\n",
    "\n",
    "# # This permissions change avoids a warning on Kaggle tool startup.\n",
    "# !chmod 600 ~/.kaggle/kaggle.json"
   ]
  },
  {
   "cell_type": "code",
   "execution_count": 12,
   "metadata": {
    "colab": {},
    "colab_type": "code",
    "id": "9gWpGx-FQdqI"
   },
   "outputs": [],
   "source": [
    "# List available datasets.\n",
    "# !kaggle datasets list"
   ]
  },
  {
   "cell_type": "code",
   "execution_count": 13,
   "metadata": {
    "colab": {
     "base_uri": "https://localhost:8080/",
     "height": 68
    },
    "colab_type": "code",
    "id": "QJUZLHWpRs64",
    "outputId": "ec6b6886-ca69-45be-f30e-3f93af8ea38d"
   },
   "outputs": [],
   "source": [
    "# !kaggle datasets download -d paultimothymooney/chest-xray-pneumonia"
   ]
  },
  {
   "cell_type": "code",
   "execution_count": 14,
   "metadata": {
    "colab": {},
    "colab_type": "code",
    "id": "b8rhc2tsP3xB"
   },
   "outputs": [],
   "source": [
    "#import kaggle"
   ]
  },
  {
   "cell_type": "code",
   "execution_count": 15,
   "metadata": {
    "colab": {
     "base_uri": "https://localhost:8080/",
     "height": 34
    },
    "colab_type": "code",
    "id": "ovprOiJQfmzs",
    "outputId": "e1a282e0-1fe8-4bcb-8d04-bbee95e0b01f"
   },
   "outputs": [],
   "source": [
    "# !ls"
   ]
  },
  {
   "cell_type": "markdown",
   "metadata": {
    "colab_type": "text",
    "id": "IprTpEicTf92"
   },
   "source": [
    "## Shift the raw files to input folder"
   ]
  },
  {
   "cell_type": "code",
   "execution_count": 16,
   "metadata": {
    "colab": {},
    "colab_type": "code",
    "id": "ClkLqOJzTerX"
   },
   "outputs": [],
   "source": [
    "# !mkdir -p input"
   ]
  },
  {
   "cell_type": "code",
   "execution_count": 17,
   "metadata": {
    "colab": {},
    "colab_type": "code",
    "id": "uaDMYPuxVlVs"
   },
   "outputs": [],
   "source": [
    "# !mv  chest-xray-pneumonia.zip input"
   ]
  },
  {
   "cell_type": "code",
   "execution_count": 18,
   "metadata": {
    "colab": {
     "base_uri": "https://localhost:8080/",
     "height": 34
    },
    "colab_type": "code",
    "id": "nGAoWtDAW-I2",
    "outputId": "2cc8e69f-52a6-42b7-d006-8b9befb45c02"
   },
   "outputs": [],
   "source": [
    "# !ls input"
   ]
  },
  {
   "cell_type": "code",
   "execution_count": 19,
   "metadata": {
    "colab": {},
    "colab_type": "code",
    "id": "eEYZziR6XKY4"
   },
   "outputs": [],
   "source": [
    "# !ls -a"
   ]
  },
  {
   "cell_type": "code",
   "execution_count": 20,
   "metadata": {
    "colab": {
     "base_uri": "https://localhost:8080/",
     "height": 51
    },
    "colab_type": "code",
    "id": "cgW-19MYlRfX",
    "outputId": "b9a8fa29-5f3a-4fb4-f981-862a0fceacd2"
   },
   "outputs": [],
   "source": [
    "# !unzip -u input/chest-xray-pneumonia.zip -d input/"
   ]
  },
  {
   "cell_type": "code",
   "execution_count": 21,
   "metadata": {
    "colab": {},
    "colab_type": "code",
    "id": "CZoOXC9vldsJ"
   },
   "outputs": [],
   "source": [
    "# !unzip -u -q input/chest_xray.zip -d input/"
   ]
  },
  {
   "cell_type": "code",
   "execution_count": 22,
   "metadata": {
    "colab": {
     "base_uri": "https://localhost:8080/",
     "height": 34
    },
    "colab_type": "code",
    "id": "o3OTO_sGlv8L",
    "outputId": "b851d63a-025c-45d1-c606-55f39351aebf"
   },
   "outputs": [],
   "source": [
    "# !ls input/chest_xray/"
   ]
  },
  {
   "cell_type": "markdown",
   "metadata": {
    "colab_type": "text",
    "id": "4hBdGqzJndsz"
   },
   "source": [
    "## Pre-processing"
   ]
  },
  {
   "cell_type": "code",
   "execution_count": 23,
   "metadata": {
    "colab": {},
    "colab_type": "code",
    "id": "OmCKqEq-nc5l"
   },
   "outputs": [],
   "source": [
    "path_train = \"input/chest_xray/train\"\n",
    "path_val = \"input/chest_xray/val\"\n",
    "path_test = \"input/chest_xray/test\""
   ]
  },
  {
   "cell_type": "code",
   "execution_count": 24,
   "metadata": {
    "colab": {},
    "colab_type": "code",
    "id": "q0Vx2FFoOC1K"
   },
   "outputs": [],
   "source": [
    "img = glob(path_train+\"/PNEUMONIA/*.jpeg\")"
   ]
  },
  {
   "cell_type": "code",
   "execution_count": 25,
   "metadata": {
    "colab": {},
    "colab_type": "code",
    "id": "uy9TCwHxnqhj"
   },
   "outputs": [],
   "source": [
    "img = np.asarray(plt.imread(img[0]))"
   ]
  },
  {
   "cell_type": "code",
   "execution_count": 26,
   "metadata": {
    "colab": {
     "base_uri": "https://localhost:8080/",
     "height": 286
    },
    "colab_type": "code",
    "id": "RmE0u3xPoHvt",
    "outputId": "99f9c00f-44d7-4a97-d324-a077d874d473"
   },
   "outputs": [
    {
     "data": {
      "text/plain": [
       "<matplotlib.image.AxesImage at 0x2665a39d470>"
      ]
     },
     "execution_count": 26,
     "metadata": {},
     "output_type": "execute_result"
    },
    {
     "data": {
      "image/png": "[encoded data removed]",
      "text/plain": [
       "<Figure size 432x288 with 1 Axes>"
      ]
     },
     "metadata": {
      "needs_background": "light"
     },
     "output_type": "display_data"
    }
   ],
   "source": [
    "plt.imshow(img)"
   ]
  },
  {
   "cell_type": "code",
   "execution_count": 27,
   "metadata": {
    "colab": {},
    "colab_type": "code",
    "id": "kp3P9KzPwX_A"
   },
   "outputs": [],
   "source": [
    "#Training Data\n",
    "filenames_n0 = glob(path_train+\"/NORMAL/*.jpeg\")\n",
    "filenames_n1 = glob(path_train+\"/PNEUMONIA/*.jpeg\")\n",
    "\n",
    "names = ['NORMAL', 'PNEUMONIA']"
   ]
  },
  {
   "cell_type": "code",
   "execution_count": 28,
   "metadata": {
    "colab": {},
    "colab_type": "code",
    "id": "K6NvZUIiI_RA"
   },
   "outputs": [],
   "source": [
    "# An empty list. We will insert the data into this list in (img_path, label) format\n",
    "train_data = []\n",
    "val_data = []"
   ]
  },
  {
   "cell_type": "code",
   "execution_count": 29,
   "metadata": {
    "colab": {},
    "colab_type": "code",
    "id": "oL83G9f_I_jN"
   },
   "outputs": [],
   "source": [
    "# Go through all the normal cases. The label for these cases will be 0\n",
    "for img in filenames_n0:\n",
    "    train_data.append((img,0))\n",
    "\n",
    "# Go through all the pneumonia cases. The label for these cases will be 1\n",
    "for img in filenames_n1:\n",
    "    train_data.append((img, 1))"
   ]
  },
  {
   "cell_type": "code",
   "execution_count": 30,
   "metadata": {
    "colab": {
     "base_uri": "https://localhost:8080/",
     "height": 204
    },
    "colab_type": "code",
    "id": "nWQ17oZjJXxC",
    "outputId": "1ef0fadb-ba09-4196-b47e-0eea827324c0"
   },
   "outputs": [
    {
     "data": {
      "text/html": [
       "<div>\n",
       "<style scoped>\n",
       "    .dataframe tbody tr th:only-of-type {\n",
       "        vertical-align: middle;\n",
       "    }\n",
       "\n",
       "    .dataframe tbody tr th {\n",
       "        vertical-align: top;\n",
       "    }\n",
       "\n",
       "    .dataframe thead th {\n",
       "        text-align: right;\n",
       "    }\n",
       "</style>\n",
       "<table border=\"1\" class=\"dataframe\">\n",
       "  <thead>\n",
       "    <tr style=\"text-align: right;\">\n",
       "      <th></th>\n",
       "      <th>image</th>\n",
       "      <th>label</th>\n",
       "    </tr>\n",
       "  </thead>\n",
       "  <tbody>\n",
       "    <tr>\n",
       "      <th>0</th>\n",
       "      <td>input/chest_xray/train/PNEUMONIA\\person965_bac...</td>\n",
       "      <td>1</td>\n",
       "    </tr>\n",
       "    <tr>\n",
       "      <th>1</th>\n",
       "      <td>input/chest_xray/train/PNEUMONIA\\person539_bac...</td>\n",
       "      <td>1</td>\n",
       "    </tr>\n",
       "    <tr>\n",
       "      <th>2</th>\n",
       "      <td>input/chest_xray/train/PNEUMONIA\\person18_bact...</td>\n",
       "      <td>1</td>\n",
       "    </tr>\n",
       "    <tr>\n",
       "      <th>3</th>\n",
       "      <td>input/chest_xray/train/PNEUMONIA\\person964_bac...</td>\n",
       "      <td>1</td>\n",
       "    </tr>\n",
       "    <tr>\n",
       "      <th>4</th>\n",
       "      <td>input/chest_xray/train/NORMAL\\IM-0649-0001.jpeg</td>\n",
       "      <td>0</td>\n",
       "    </tr>\n",
       "  </tbody>\n",
       "</table>\n",
       "</div>"
      ],
      "text/plain": [
       "                                               image  label\n",
       "0  input/chest_xray/train/PNEUMONIA\\person965_bac...      1\n",
       "1  input/chest_xray/train/PNEUMONIA\\person539_bac...      1\n",
       "2  input/chest_xray/train/PNEUMONIA\\person18_bact...      1\n",
       "3  input/chest_xray/train/PNEUMONIA\\person964_bac...      1\n",
       "4    input/chest_xray/train/NORMAL\\IM-0649-0001.jpeg      0"
      ]
     },
     "execution_count": 30,
     "metadata": {},
     "output_type": "execute_result"
    }
   ],
   "source": [
    "# Get a pandas dataframe from the data we have in our list \n",
    "train_data = pd.DataFrame(train_data, columns=['image', 'label'],index=None)\n",
    "\n",
    "# Shuffle the data \n",
    "train_data = train_data.sample(frac=1.).reset_index(drop=True)\n",
    "\n",
    "# How the dataframe looks like?\n",
    "train_data.head()"
   ]
  },
  {
   "cell_type": "code",
   "execution_count": 31,
   "metadata": {
    "colab": {},
    "colab_type": "code",
    "id": "HJ_MWhKJdej-"
   },
   "outputs": [],
   "source": [
    "#Validation Data\n",
    "filenames_v0 = glob(path_val+\"/NORMAL/*.jpeg\")\n",
    "filenames_v1 = glob(path_val+\"/PNEUMONIA/*.jpeg\")"
   ]
  },
  {
   "cell_type": "code",
   "execution_count": 32,
   "metadata": {
    "colab": {},
    "colab_type": "code",
    "id": "tmSv_uqxdm_L"
   },
   "outputs": [],
   "source": [
    "# Go through all the normal cases. The label for these cases will be 0\n",
    "for img in filenames_v0:\n",
    "    val_data.append((img,0))\n",
    "\n",
    "# Go through all the pneumonia cases. The label for these cases will be 1\n",
    "for img in filenames_v1:\n",
    "    val_data.append((img, 1))"
   ]
  },
  {
   "cell_type": "code",
   "execution_count": 33,
   "metadata": {
    "colab": {
     "base_uri": "https://localhost:8080/",
     "height": 204
    },
    "colab_type": "code",
    "id": "tyc0ziu-d0Y7",
    "outputId": "6ef9281e-6b02-4cf5-fc26-1b5abe639d1c"
   },
   "outputs": [
    {
     "data": {
      "text/html": [
       "<div>\n",
       "<style scoped>\n",
       "    .dataframe tbody tr th:only-of-type {\n",
       "        vertical-align: middle;\n",
       "    }\n",
       "\n",
       "    .dataframe tbody tr th {\n",
       "        vertical-align: top;\n",
       "    }\n",
       "\n",
       "    .dataframe thead th {\n",
       "        text-align: right;\n",
       "    }\n",
       "</style>\n",
       "<table border=\"1\" class=\"dataframe\">\n",
       "  <thead>\n",
       "    <tr style=\"text-align: right;\">\n",
       "      <th></th>\n",
       "      <th>image</th>\n",
       "      <th>label</th>\n",
       "    </tr>\n",
       "  </thead>\n",
       "  <tbody>\n",
       "    <tr>\n",
       "      <th>0</th>\n",
       "      <td>input/chest_xray/val/NORMAL\\NORMAL2-IM-1427-00...</td>\n",
       "      <td>0</td>\n",
       "    </tr>\n",
       "    <tr>\n",
       "      <th>1</th>\n",
       "      <td>input/chest_xray/val/NORMAL\\NORMAL2-IM-1437-00...</td>\n",
       "      <td>0</td>\n",
       "    </tr>\n",
       "    <tr>\n",
       "      <th>2</th>\n",
       "      <td>input/chest_xray/val/PNEUMONIA\\person1954_bact...</td>\n",
       "      <td>1</td>\n",
       "    </tr>\n",
       "    <tr>\n",
       "      <th>3</th>\n",
       "      <td>input/chest_xray/val/NORMAL\\NORMAL2-IM-1442-00...</td>\n",
       "      <td>0</td>\n",
       "    </tr>\n",
       "    <tr>\n",
       "      <th>4</th>\n",
       "      <td>input/chest_xray/val/NORMAL\\NORMAL2-IM-1431-00...</td>\n",
       "      <td>0</td>\n",
       "    </tr>\n",
       "  </tbody>\n",
       "</table>\n",
       "</div>"
      ],
      "text/plain": [
       "                                               image  label\n",
       "0  input/chest_xray/val/NORMAL\\NORMAL2-IM-1427-00...      0\n",
       "1  input/chest_xray/val/NORMAL\\NORMAL2-IM-1437-00...      0\n",
       "2  input/chest_xray/val/PNEUMONIA\\person1954_bact...      1\n",
       "3  input/chest_xray/val/NORMAL\\NORMAL2-IM-1442-00...      0\n",
       "4  input/chest_xray/val/NORMAL\\NORMAL2-IM-1431-00...      0"
      ]
     },
     "execution_count": 33,
     "metadata": {},
     "output_type": "execute_result"
    }
   ],
   "source": [
    "# Get a pandas dataframe from the data we have in our list \n",
    "val_data = pd.DataFrame(val_data, columns=['image', 'label'],index=None)\n",
    "\n",
    "# Shuffle the data \n",
    "val_data = val_data.sample(frac=1.).reset_index(drop=True)\n",
    "\n",
    "# How the dataframe looks like?\n",
    "val_data.head()"
   ]
  },
  {
   "cell_type": "markdown",
   "metadata": {
    "colab_type": "text",
    "id": "O_v-CIcKJh63"
   },
   "source": [
    "## Information on Dataset"
   ]
  },
  {
   "cell_type": "code",
   "execution_count": 34,
   "metadata": {
    "colab": {
     "base_uri": "https://localhost:8080/",
     "height": 601
    },
    "colab_type": "code",
    "id": "sLFtmFmSJhIV",
    "outputId": "c7136a9d-e126-4afc-ed7a-e8bc62ed6c17"
   },
   "outputs": [
    {
     "name": "stdout",
     "output_type": "stream",
     "text": [
      "1    3875\n",
      "0    1341\n",
      "Name: label, dtype: int64\n"
     ]
    },
    {
     "data": {
      "image/png": "[encoded data removed]",
      "text/plain": [
       "<Figure size 720x576 with 1 Axes>"
      ]
     },
     "metadata": {
      "needs_background": "light"
     },
     "output_type": "display_data"
    }
   ],
   "source": [
    "# Get the counts for each class\n",
    "cases_count = train_data['label'].value_counts()\n",
    "print(cases_count)\n",
    "\n",
    "# Plot the results \n",
    "plt.figure(figsize=(10,8))\n",
    "sns.barplot(x=cases_count.index, y= cases_count.values)\n",
    "plt.title('Number of cases', fontsize=14)\n",
    "plt.xlabel('Case type', fontsize=12)\n",
    "plt.ylabel('Count', fontsize=12)\n",
    "plt.xticks(range(len(cases_count.index)), ['Normal(0)', 'Pneumonia(1)'])\n",
    "plt.show()"
   ]
  },
  {
   "cell_type": "code",
   "execution_count": 35,
   "metadata": {
    "colab": {},
    "colab_type": "code",
    "id": "7qbisftDyLA3"
   },
   "outputs": [],
   "source": [
    "# # Make a dataframe based on the filenames\n",
    "df = pd.DataFrame(filenames_n0, columns = [\"filename\"])\n",
    "df2 = pd.DataFrame(filenames_n1, columns = [\"filename\"])\n",
    "\n",
    "val_df = pd.DataFrame(filenames_v0, columns = [\"filename\"])\n",
    "val_df2 = pd.DataFrame(filenames_v1, columns = [\"filename\"])\n",
    "\n",
    "\n",
    "# # Add Class columns \n",
    "df['class'] = pd.Series([0 for x in range(len(df.index))], index=df.index)\n",
    "df2['class'] = pd.Series([1 for x in range(len(df2.index))], index=df2.index)\n",
    "\n",
    "val_df['class'] = pd.Series([0 for x in range(len(val_df.index))], index=val_df.index)\n",
    "val_df2['class'] = pd.Series([1 for x in range(len(val_df2.index))], index=val_df2.index)\n",
    "\n",
    "\n",
    "\n",
    "# # Split into train and validation sets\n",
    "# train_set_percentage = 0.95\n",
    "\n",
    "\n",
    "# train_df = df[:int(len(df)*train_set_percentage)]\n",
    "# val_df = df[int(len(df)*train_set_percentage):]\n",
    "\n",
    "# train_df2 = df2[:int(len(df2)*train_set_percentage)]\n",
    "# val_df2 = df2[int(len(df2)*train_set_percentage):]\n",
    "\n",
    "\n",
    "\n",
    "# df_new_train = pd.concat([train_df, train_df2])\n",
    "# df_new_val = pd.concat([val_df, val_df2])\n",
    "\n",
    "df_new_train = pd.concat([df, df2])\n",
    "df_new_val = pd.concat([val_df, val_df2])"
   ]
  },
  {
   "cell_type": "code",
   "execution_count": 36,
   "metadata": {
    "colab": {},
    "colab_type": "code",
    "id": "U7hkLACtyLLT"
   },
   "outputs": [],
   "source": [
    "# shuffle \n",
    "df = df_new_train.sample(frac=1).reset_index(drop=True)\n",
    "df_val = df_new_val.sample(frac=1).reset_index(drop=True)"
   ]
  },
  {
   "cell_type": "code",
   "execution_count": 37,
   "metadata": {
    "colab": {
     "base_uri": "https://localhost:8080/",
     "height": 34
    },
    "colab_type": "code",
    "id": "evXvx6e95H28",
    "outputId": "82937782-0a13-41e2-c591-258afeaf3d45"
   },
   "outputs": [
    {
     "data": {
      "text/plain": [
       "5216"
      ]
     },
     "execution_count": 37,
     "metadata": {},
     "output_type": "execute_result"
    }
   ],
   "source": [
    "len(df)"
   ]
  },
  {
   "cell_type": "code",
   "execution_count": 38,
   "metadata": {
    "colab": {
     "base_uri": "https://localhost:8080/",
     "height": 34
    },
    "colab_type": "code",
    "id": "M_XsyAYS5H0F",
    "outputId": "db0d5f45-42eb-4645-e673-7022bb2321b7"
   },
   "outputs": [
    {
     "data": {
      "text/plain": [
       "16"
      ]
     },
     "execution_count": 38,
     "metadata": {},
     "output_type": "execute_result"
    }
   ],
   "source": [
    "len(df_val)"
   ]
  },
  {
   "cell_type": "code",
   "execution_count": 39,
   "metadata": {
    "colab": {
     "base_uri": "https://localhost:8080/",
     "height": 204
    },
    "colab_type": "code",
    "id": "vYbBS5JDheJ4",
    "outputId": "f98debb1-4737-4adb-a186-0fc11475f764"
   },
   "outputs": [
    {
     "data": {
      "text/html": [
       "<div>\n",
       "<style scoped>\n",
       "    .dataframe tbody tr th:only-of-type {\n",
       "        vertical-align: middle;\n",
       "    }\n",
       "\n",
       "    .dataframe tbody tr th {\n",
       "        vertical-align: top;\n",
       "    }\n",
       "\n",
       "    .dataframe thead th {\n",
       "        text-align: right;\n",
       "    }\n",
       "</style>\n",
       "<table border=\"1\" class=\"dataframe\">\n",
       "  <thead>\n",
       "    <tr style=\"text-align: right;\">\n",
       "      <th></th>\n",
       "      <th>filename</th>\n",
       "      <th>class</th>\n",
       "    </tr>\n",
       "  </thead>\n",
       "  <tbody>\n",
       "    <tr>\n",
       "      <th>0</th>\n",
       "      <td>input/chest_xray/train/PNEUMONIA\\person808_vir...</td>\n",
       "      <td>1</td>\n",
       "    </tr>\n",
       "    <tr>\n",
       "      <th>1</th>\n",
       "      <td>input/chest_xray/train/PNEUMONIA\\person524_vir...</td>\n",
       "      <td>1</td>\n",
       "    </tr>\n",
       "    <tr>\n",
       "      <th>2</th>\n",
       "      <td>input/chest_xray/train/PNEUMONIA\\person393_vir...</td>\n",
       "      <td>1</td>\n",
       "    </tr>\n",
       "    <tr>\n",
       "      <th>3</th>\n",
       "      <td>input/chest_xray/train/PNEUMONIA\\person1484_ba...</td>\n",
       "      <td>1</td>\n",
       "    </tr>\n",
       "    <tr>\n",
       "      <th>4</th>\n",
       "      <td>input/chest_xray/train/PNEUMONIA\\person1103_vi...</td>\n",
       "      <td>1</td>\n",
       "    </tr>\n",
       "  </tbody>\n",
       "</table>\n",
       "</div>"
      ],
      "text/plain": [
       "                                            filename  class\n",
       "0  input/chest_xray/train/PNEUMONIA\\person808_vir...      1\n",
       "1  input/chest_xray/train/PNEUMONIA\\person524_vir...      1\n",
       "2  input/chest_xray/train/PNEUMONIA\\person393_vir...      1\n",
       "3  input/chest_xray/train/PNEUMONIA\\person1484_ba...      1\n",
       "4  input/chest_xray/train/PNEUMONIA\\person1103_vi...      1"
      ]
     },
     "execution_count": 39,
     "metadata": {},
     "output_type": "execute_result"
    }
   ],
   "source": [
    "df.head()"
   ]
  },
  {
   "cell_type": "code",
   "execution_count": 40,
   "metadata": {
    "colab": {
     "base_uri": "https://localhost:8080/",
     "height": 34
    },
    "colab_type": "code",
    "id": "ef87w-COyLHM",
    "outputId": "3284551f-5991-4f3f-b6c8-0e0a8a3e9025"
   },
   "outputs": [
    {
     "data": {
      "text/plain": [
       "(5216, 2)"
      ]
     },
     "execution_count": 40,
     "metadata": {},
     "output_type": "execute_result"
    }
   ],
   "source": [
    "# convert the dataframe into 2 lists to use for filename and labels\n",
    "train_filenames_list = df[\"filename\"].tolist()\n",
    "train_labels_list = df[\"class\"].astype('int32').tolist()\n",
    "\n",
    "# convert the dataframe into 2 lists to use for filename and labels\n",
    "val_filenames_list = df_val[\"filename\"].tolist()\n",
    "val_labels_list = df_val[\"class\"].astype('int32').tolist()\n",
    "\n",
    "#number of classes\n",
    "num_classes = 2\n",
    "\n",
    "df.shape"
   ]
  },
  {
   "cell_type": "code",
   "execution_count": 41,
   "metadata": {
    "colab": {
     "base_uri": "https://localhost:8080/",
     "height": 34
    },
    "colab_type": "code",
    "id": "Ck2Xh93J5qkc",
    "outputId": "c2a3a4c0-faea-4a91-c406-7c04509bbbb9"
   },
   "outputs": [
    {
     "data": {
      "text/plain": [
       "(16, 2)"
      ]
     },
     "execution_count": 41,
     "metadata": {},
     "output_type": "execute_result"
    }
   ],
   "source": [
    "df_val.shape"
   ]
  },
  {
   "cell_type": "code",
   "execution_count": 42,
   "metadata": {
    "colab": {
     "base_uri": "https://localhost:8080/",
     "height": 204
    },
    "colab_type": "code",
    "id": "1q2voss_9hlK",
    "outputId": "30d20d9d-e394-4cb3-b3f9-e20cb1cb63f7"
   },
   "outputs": [
    {
     "data": {
      "text/html": [
       "<div>\n",
       "<style scoped>\n",
       "    .dataframe tbody tr th:only-of-type {\n",
       "        vertical-align: middle;\n",
       "    }\n",
       "\n",
       "    .dataframe tbody tr th {\n",
       "        vertical-align: top;\n",
       "    }\n",
       "\n",
       "    .dataframe thead th {\n",
       "        text-align: right;\n",
       "    }\n",
       "</style>\n",
       "<table border=\"1\" class=\"dataframe\">\n",
       "  <thead>\n",
       "    <tr style=\"text-align: right;\">\n",
       "      <th></th>\n",
       "      <th>filename</th>\n",
       "      <th>class</th>\n",
       "    </tr>\n",
       "  </thead>\n",
       "  <tbody>\n",
       "    <tr>\n",
       "      <th>0</th>\n",
       "      <td>input/chest_xray/train/PNEUMONIA\\person808_vir...</td>\n",
       "      <td>1</td>\n",
       "    </tr>\n",
       "    <tr>\n",
       "      <th>1</th>\n",
       "      <td>input/chest_xray/train/PNEUMONIA\\person524_vir...</td>\n",
       "      <td>1</td>\n",
       "    </tr>\n",
       "    <tr>\n",
       "      <th>2</th>\n",
       "      <td>input/chest_xray/train/PNEUMONIA\\person393_vir...</td>\n",
       "      <td>1</td>\n",
       "    </tr>\n",
       "    <tr>\n",
       "      <th>3</th>\n",
       "      <td>input/chest_xray/train/PNEUMONIA\\person1484_ba...</td>\n",
       "      <td>1</td>\n",
       "    </tr>\n",
       "    <tr>\n",
       "      <th>4</th>\n",
       "      <td>input/chest_xray/train/PNEUMONIA\\person1103_vi...</td>\n",
       "      <td>1</td>\n",
       "    </tr>\n",
       "  </tbody>\n",
       "</table>\n",
       "</div>"
      ],
      "text/plain": [
       "                                            filename  class\n",
       "0  input/chest_xray/train/PNEUMONIA\\person808_vir...      1\n",
       "1  input/chest_xray/train/PNEUMONIA\\person524_vir...      1\n",
       "2  input/chest_xray/train/PNEUMONIA\\person393_vir...      1\n",
       "3  input/chest_xray/train/PNEUMONIA\\person1484_ba...      1\n",
       "4  input/chest_xray/train/PNEUMONIA\\person1103_vi...      1"
      ]
     },
     "execution_count": 42,
     "metadata": {},
     "output_type": "execute_result"
    }
   ],
   "source": [
    "df.head()"
   ]
  },
  {
   "cell_type": "code",
   "execution_count": 43,
   "metadata": {
    "colab": {
     "base_uri": "https://localhost:8080/",
     "height": 102
    },
    "colab_type": "code",
    "id": "zUyi_V27zqKW",
    "outputId": "5ef4c7ad-06b5-467c-803c-35066e04c2a2"
   },
   "outputs": [
    {
     "data": {
      "text/plain": [
       "['input/chest_xray/train/PNEUMONIA\\\\person808_virus_1442.jpeg',\n",
       " 'input/chest_xray/train/PNEUMONIA\\\\person524_virus_1045.jpeg',\n",
       " 'input/chest_xray/train/PNEUMONIA\\\\person393_virus_784.jpeg',\n",
       " 'input/chest_xray/train/PNEUMONIA\\\\person1484_bacteria_3878.jpeg',\n",
       " 'input/chest_xray/train/PNEUMONIA\\\\person1103_virus_1825.jpeg']"
      ]
     },
     "execution_count": 43,
     "metadata": {},
     "output_type": "execute_result"
    }
   ],
   "source": [
    "train_filenames_list[:5]"
   ]
  },
  {
   "cell_type": "markdown",
   "metadata": {
    "colab_type": "text",
    "id": "vCFA_kQG0FrT"
   },
   "source": [
    "## Make the pipeline for loading, resizing and augmenting the images"
   ]
  },
  {
   "cell_type": "code",
   "execution_count": 44,
   "metadata": {
    "colab": {},
    "colab_type": "code",
    "id": "7rKntgnt0Dh7"
   },
   "outputs": [],
   "source": [
    "# Reads an image from a file, decodes it into a tensor, and resizes it\n",
    "# to a fixed shape.\n",
    "img_rows, img_cols = 299,299\n",
    "\n",
    "def _parse_function(filename, label):\n",
    "  image_string = tf.read_file(filename)\n",
    "  image_decoded = tf.image.decode_jpeg(image_string, channels=3)\n",
    "  \n",
    "  # This will convert to float values in [0, 1]\n",
    "  image_zo = tf.image.convert_image_dtype(image_decoded, tf.float32)\n",
    "  image_resized = tf.image.resize_images(image_zo, [img_rows, img_cols])\n",
    "  label = tf.one_hot(label, num_classes)\n",
    "  return image_resized, label"
   ]
  },
  {
   "cell_type": "code",
   "execution_count": 45,
   "metadata": {
    "colab": {},
    "colab_type": "code",
    "id": "RHOIYhlxL7Mz"
   },
   "outputs": [],
   "source": [
    "# train preprocess\n",
    "def train_preprocess(image, label):\n",
    "    image = tf.image.random_flip_left_right(image)\n",
    "    image = tf.image.random_contrast(image,0.5,1.5)\n",
    "    \n",
    "    image = tf.image.random_brightness(image, max_delta=32.0 / 255.0)\n",
    "    image = tf.image.random_saturation(image, lower=0.5, upper=1.5)\n",
    "\n",
    "    # Make sure the image is still in [0, 1]\n",
    "    image = tf.clip_by_value(image, 0.0, 1.0)\n",
    "\n",
    "    return image, label"
   ]
  },
  {
   "cell_type": "code",
   "execution_count": 46,
   "metadata": {
    "colab": {},
    "colab_type": "code",
    "id": "b0ASYSER0Dws"
   },
   "outputs": [],
   "source": [
    "# A vector of filenames - from a list\n",
    "filenames = tf.constant(train_filenames_list)\n",
    "\n",
    "# Labels that match the training files - from a list\n",
    "labels = tf.constant(train_labels_list)\n",
    "\n",
    "# Same as above but for validation set\n",
    "val_filenames = tf.constant(val_filenames_list)\n",
    "val_labels = tf.constant(val_labels_list)"
   ]
  },
  {
   "cell_type": "code",
   "execution_count": 47,
   "metadata": {
    "colab": {},
    "colab_type": "code",
    "id": "ic9PA44d0Dsk"
   },
   "outputs": [],
   "source": [
    "# val_labels_list"
   ]
  },
  {
   "cell_type": "markdown",
   "metadata": {
    "colab_type": "text",
    "id": "iH3TnxNo0f8Q"
   },
   "source": [
    "## Assembling the Data pipeline using tf.data"
   ]
  },
  {
   "cell_type": "code",
   "execution_count": 48,
   "metadata": {
    "colab": {},
    "colab_type": "code",
    "id": "pw0aSU_60DfE"
   },
   "outputs": [],
   "source": [
    "train_dataset = tf.data.Dataset.from_tensor_slices((filenames, labels))\n",
    "train_dataset = train_dataset.map(_parse_function,num_parallel_calls=4)\n",
    "train_dataset = train_dataset.map(train_preprocess, num_parallel_calls=4)\n",
    "train_dataset = train_dataset.repeat()\n",
    "train_dataset = train_dataset.batch(16)\n",
    "train_dataset = train_dataset.prefetch(1)"
   ]
  },
  {
   "cell_type": "code",
   "execution_count": 49,
   "metadata": {
    "colab": {},
    "colab_type": "code",
    "id": "D9fgGQxo0Dcd"
   },
   "outputs": [],
   "source": [
    "valid_dataset = tf.data.Dataset.from_tensor_slices((val_filenames, val_labels))\n",
    "valid_dataset = valid_dataset.map(_parse_function,num_parallel_calls=4)\n",
    "valid_dataset = valid_dataset.map(train_preprocess, num_parallel_calls=4)\n",
    "valid_dataset = valid_dataset.repeat()\n",
    "valid_dataset = valid_dataset.batch(16)\n",
    "valid_dataset = valid_dataset.prefetch(1)"
   ]
  },
  {
   "cell_type": "markdown",
   "metadata": {
    "colab_type": "text",
    "id": "eynOMKRuqo40"
   },
   "source": [
    "## Load Model - Pretrained models"
   ]
  },
  {
   "cell_type": "code",
   "execution_count": 50,
   "metadata": {
    "colab": {},
    "colab_type": "code",
    "id": "EkjkGL7upYDF"
   },
   "outputs": [],
   "source": [
    "# from keras.applications.nasnet import NASNetMobile, preprocess_input, decode_predictions\n",
    "\n",
    "# model_imagenet = NASNetMobile(weights='imagenet', include_top=True)   # 24,226,656 bytes\n",
    "# print(\"Model Loaded\")"
   ]
  },
  {
   "cell_type": "code",
   "execution_count": 51,
   "metadata": {
    "colab": {},
    "colab_type": "code",
    "id": "9xp2GM3n1LEG"
   },
   "outputs": [],
   "source": [
    "# from tensorflow.keras.applications import VGG16"
   ]
  },
  {
   "cell_type": "code",
   "execution_count": 52,
   "metadata": {
    "colab": {},
    "colab_type": "code",
    "id": "OoKCq38Lq49-"
   },
   "outputs": [],
   "source": [
    "# InceptionV3 Model - trained on image net\n",
    "base_model = InceptionV3(weights='imagenet', include_top=False)"
   ]
  },
  {
   "cell_type": "code",
   "execution_count": 53,
   "metadata": {
    "colab": {},
    "colab_type": "code",
    "id": "usQditt70yt4"
   },
   "outputs": [],
   "source": [
    "# base_model.summary()http://login.live.com/login.srf?wa=wsignin1.0&rpsnv=11&ct=1274684751&rver=5.5.4177.0&wp=MBI&wreply=http:%2F%2Fhome.live.com%2F&lc=1033&id=251248"
   ]
  },
  {
   "cell_type": "code",
   "execution_count": 54,
   "metadata": {
    "colab": {},
    "colab_type": "code",
    "id": "RrIvR6mF01Yt"
   },
   "outputs": [],
   "source": [
    "# add a global spatial average pooling layer\n",
    "x = base_model.output\n",
    "x = GlobalAveragePooling2D()(x)\n",
    "x = Flatten()(x)\n",
    "\n",
    "# let's add a fully-connected layer\n",
    "x = Dense(1024, activation='relu')(x)\n",
    "x = Dropout(0.3)(x)\n",
    "\n",
    "# let's add a fully-connected layer\n",
    "x = Dense(512, activation='relu')(x)\n",
    "x = Dropout(0.3)(x)\n",
    "# 2 Classes for chest x-ray\n",
    "predictions = Dense(num_classes, activation='softmax')(x)"
   ]
  },
  {
   "cell_type": "code",
   "execution_count": 55,
   "metadata": {
    "colab": {},
    "colab_type": "code",
    "id": "hP_at3vi1oc4"
   },
   "outputs": [],
   "source": [
    "# Creating the model that we will train\n",
    "model = Model(inputs=base_model.input, outputs=predictions)"
   ]
  },
  {
   "cell_type": "code",
   "execution_count": 56,
   "metadata": {
    "colab": {},
    "colab_type": "code",
    "id": "g50ZioAx1pPn"
   },
   "outputs": [],
   "source": [
    "for layer in base_model.layers:\n",
    "    layer.trainable = False"
   ]
  },
  {
   "cell_type": "code",
   "execution_count": 57,
   "metadata": {
    "colab": {
     "base_uri": "https://localhost:8080/",
     "height": 5423
    },
    "colab_type": "code",
    "id": "LaGtmgK31rli",
    "outputId": "31be0e69-6111-4ab5-e628-acd1e70c0158"
   },
   "outputs": [
    {
     "name": "stdout",
     "output_type": "stream",
     "text": [
      "0 input_1 False\n",
      "1 conv2d False\n",
      "2 batch_normalization False\n",
      "3 activation False\n",
      "4 conv2d_1 False\n",
      "5 batch_normalization_1 False\n",
      "6 activation_1 False\n",
      "7 conv2d_2 False\n",
      "8 batch_normalization_2 False\n",
      "9 activation_2 False\n",
      "10 max_pooling2d False\n",
      "11 conv2d_3 False\n",
      "12 batch_normalization_3 False\n",
      "13 activation_3 False\n",
      "14 conv2d_4 False\n",
      "15 batch_normalization_4 False\n",
      "16 activation_4 False\n",
      "17 max_pooling2d_1 False\n",
      "18 conv2d_8 False\n",
      "19 batch_normalization_8 False\n",
      "20 activation_8 False\n",
      "21 conv2d_6 False\n",
      "22 conv2d_9 False\n",
      "23 batch_normalization_6 False\n",
      "24 batch_normalization_9 False\n",
      "25 activation_6 False\n",
      "26 activation_9 False\n",
      "27 average_pooling2d False\n",
      "28 conv2d_5 False\n",
      "29 conv2d_7 False\n",
      "30 conv2d_10 False\n",
      "31 conv2d_11 False\n",
      "32 batch_normalization_5 False\n",
      "33 batch_normalization_7 False\n",
      "34 batch_normalization_10 False\n",
      "35 batch_normalization_11 False\n",
      "36 activation_5 False\n",
      "37 activation_7 False\n",
      "38 activation_10 False\n",
      "39 activation_11 False\n",
      "40 mixed0 False\n",
      "41 conv2d_15 False\n",
      "42 batch_normalization_15 False\n",
      "43 activation_15 False\n",
      "44 conv2d_13 False\n",
      "45 conv2d_16 False\n",
      "46 batch_normalization_13 False\n",
      "47 batch_normalization_16 False\n",
      "48 activation_13 False\n",
      "49 activation_16 False\n",
      "50 average_pooling2d_1 False\n",
      "51 conv2d_12 False\n",
      "52 conv2d_14 False\n",
      "53 conv2d_17 False\n",
      "54 conv2d_18 False\n",
      "55 batch_normalization_12 False\n",
      "56 batch_normalization_14 False\n",
      "57 batch_normalization_17 False\n",
      "58 batch_normalization_18 False\n",
      "59 activation_12 False\n",
      "60 activation_14 False\n",
      "61 activation_17 False\n",
      "62 activation_18 False\n",
      "63 mixed1 False\n",
      "64 conv2d_22 False\n",
      "65 batch_normalization_22 False\n",
      "66 activation_22 False\n",
      "67 conv2d_20 False\n",
      "68 conv2d_23 False\n",
      "69 batch_normalization_20 False\n",
      "70 batch_normalization_23 False\n",
      "71 activation_20 False\n",
      "72 activation_23 False\n",
      "73 average_pooling2d_2 False\n",
      "74 conv2d_19 False\n",
      "75 conv2d_21 False\n",
      "76 conv2d_24 False\n",
      "77 conv2d_25 False\n",
      "78 batch_normalization_19 False\n",
      "79 batch_normalization_21 False\n",
      "80 batch_normalization_24 False\n",
      "81 batch_normalization_25 False\n",
      "82 activation_19 False\n",
      "83 activation_21 False\n",
      "84 activation_24 False\n",
      "85 activation_25 False\n",
      "86 mixed2 False\n",
      "87 conv2d_27 False\n",
      "88 batch_normalization_27 False\n",
      "89 activation_27 False\n",
      "90 conv2d_28 False\n",
      "91 batch_normalization_28 False\n",
      "92 activation_28 False\n",
      "93 conv2d_26 False\n",
      "94 conv2d_29 False\n",
      "95 batch_normalization_26 False\n",
      "96 batch_normalization_29 False\n",
      "97 activation_26 False\n",
      "98 activation_29 False\n",
      "99 max_pooling2d_2 False\n",
      "100 mixed3 False\n",
      "101 conv2d_34 False\n",
      "102 batch_normalization_34 False\n",
      "103 activation_34 False\n",
      "104 conv2d_35 False\n",
      "105 batch_normalization_35 False\n",
      "106 activation_35 False\n",
      "107 conv2d_31 False\n",
      "108 conv2d_36 False\n",
      "109 batch_normalization_31 False\n",
      "110 batch_normalization_36 False\n",
      "111 activation_31 False\n",
      "112 activation_36 False\n",
      "113 conv2d_32 False\n",
      "114 conv2d_37 False\n",
      "115 batch_normalization_32 False\n",
      "116 batch_normalization_37 False\n",
      "117 activation_32 False\n",
      "118 activation_37 False\n",
      "119 average_pooling2d_3 False\n",
      "120 conv2d_30 False\n",
      "121 conv2d_33 False\n",
      "122 conv2d_38 False\n",
      "123 conv2d_39 False\n",
      "124 batch_normalization_30 False\n",
      "125 batch_normalization_33 False\n",
      "126 batch_normalization_38 False\n",
      "127 batch_normalization_39 False\n",
      "128 activation_30 False\n",
      "129 activation_33 False\n",
      "130 activation_38 False\n",
      "131 activation_39 False\n",
      "132 mixed4 False\n",
      "133 conv2d_44 False\n",
      "134 batch_normalization_44 False\n",
      "135 activation_44 False\n",
      "136 conv2d_45 False\n",
      "137 batch_normalization_45 False\n",
      "138 activation_45 False\n",
      "139 conv2d_41 False\n",
      "140 conv2d_46 False\n",
      "141 batch_normalization_41 False\n",
      "142 batch_normalization_46 False\n",
      "143 activation_41 False\n",
      "144 activation_46 False\n",
      "145 conv2d_42 False\n",
      "146 conv2d_47 False\n",
      "147 batch_normalization_42 False\n",
      "148 batch_normalization_47 False\n",
      "149 activation_42 False\n",
      "150 activation_47 False\n",
      "151 average_pooling2d_4 False\n",
      "152 conv2d_40 False\n",
      "153 conv2d_43 False\n",
      "154 conv2d_48 False\n",
      "155 conv2d_49 False\n",
      "156 batch_normalization_40 False\n",
      "157 batch_normalization_43 False\n",
      "158 batch_normalization_48 False\n",
      "159 batch_normalization_49 False\n",
      "160 activation_40 False\n",
      "161 activation_43 False\n",
      "162 activation_48 False\n",
      "163 activation_49 False\n",
      "164 mixed5 False\n",
      "165 conv2d_54 False\n",
      "166 batch_normalization_54 False\n",
      "167 activation_54 False\n",
      "168 conv2d_55 False\n",
      "169 batch_normalization_55 False\n",
      "170 activation_55 False\n",
      "171 conv2d_51 False\n",
      "172 conv2d_56 False\n",
      "173 batch_normalization_51 False\n",
      "174 batch_normalization_56 False\n",
      "175 activation_51 False\n",
      "176 activation_56 False\n",
      "177 conv2d_52 False\n",
      "178 conv2d_57 False\n",
      "179 batch_normalization_52 False\n",
      "180 batch_normalization_57 False\n",
      "181 activation_52 False\n",
      "182 activation_57 False\n",
      "183 average_pooling2d_5 False\n",
      "184 conv2d_50 False\n",
      "185 conv2d_53 False\n",
      "186 conv2d_58 False\n",
      "187 conv2d_59 False\n",
      "188 batch_normalization_50 False\n",
      "189 batch_normalization_53 False\n",
      "190 batch_normalization_58 False\n",
      "191 batch_normalization_59 False\n",
      "192 activation_50 False\n",
      "193 activation_53 False\n",
      "194 activation_58 False\n",
      "195 activation_59 False\n",
      "196 mixed6 False\n",
      "197 conv2d_64 False\n",
      "198 batch_normalization_64 False\n",
      "199 activation_64 False\n",
      "200 conv2d_65 False\n",
      "201 batch_normalization_65 False\n",
      "202 activation_65 False\n",
      "203 conv2d_61 False\n",
      "204 conv2d_66 False\n",
      "205 batch_normalization_61 False\n",
      "206 batch_normalization_66 False\n",
      "207 activation_61 False\n",
      "208 activation_66 False\n",
      "209 conv2d_62 False\n",
      "210 conv2d_67 False\n",
      "211 batch_normalization_62 False\n",
      "212 batch_normalization_67 False\n",
      "213 activation_62 False\n",
      "214 activation_67 False\n",
      "215 average_pooling2d_6 False\n",
      "216 conv2d_60 False\n",
      "217 conv2d_63 False\n",
      "218 conv2d_68 False\n",
      "219 conv2d_69 False\n",
      "220 batch_normalization_60 False\n",
      "221 batch_normalization_63 False\n",
      "222 batch_normalization_68 False\n",
      "223 batch_normalization_69 False\n",
      "224 activation_60 False\n",
      "225 activation_63 False\n",
      "226 activation_68 False\n",
      "227 activation_69 False\n",
      "228 mixed7 False\n",
      "229 conv2d_72 False\n",
      "230 batch_normalization_72 False\n",
      "231 activation_72 False\n",
      "232 conv2d_73 False\n",
      "233 batch_normalization_73 False\n",
      "234 activation_73 False\n",
      "235 conv2d_70 False\n",
      "236 conv2d_74 False\n",
      "237 batch_normalization_70 False\n",
      "238 batch_normalization_74 False\n",
      "239 activation_70 False\n",
      "240 activation_74 False\n",
      "241 conv2d_71 False\n",
      "242 conv2d_75 False\n",
      "243 batch_normalization_71 False\n",
      "244 batch_normalization_75 False\n",
      "245 activation_71 False\n",
      "246 activation_75 False\n",
      "247 max_pooling2d_3 False\n",
      "248 mixed8 False\n",
      "249 conv2d_80 False\n",
      "250 batch_normalization_80 False\n",
      "251 activation_80 False\n",
      "252 conv2d_77 False\n",
      "253 conv2d_81 False\n",
      "254 batch_normalization_77 False\n",
      "255 batch_normalization_81 False\n",
      "256 activation_77 False\n",
      "257 activation_81 False\n",
      "258 conv2d_78 False\n",
      "259 conv2d_79 False\n",
      "260 conv2d_82 False\n",
      "261 conv2d_83 False\n",
      "262 average_pooling2d_7 False\n",
      "263 conv2d_76 False\n",
      "264 batch_normalization_78 False\n",
      "265 batch_normalization_79 False\n",
      "266 batch_normalization_82 False\n",
      "267 batch_normalization_83 False\n",
      "268 conv2d_84 False\n",
      "269 batch_normalization_76 False\n",
      "270 activation_78 False\n",
      "271 activation_79 False\n",
      "272 activation_82 False\n",
      "273 activation_83 False\n",
      "274 batch_normalization_84 False\n",
      "275 activation_76 False\n",
      "276 mixed9_0 False\n",
      "277 concatenate False\n",
      "278 activation_84 False\n",
      "279 mixed9 False\n",
      "280 conv2d_89 False\n",
      "281 batch_normalization_89 False\n",
      "282 activation_89 False\n",
      "283 conv2d_86 False\n",
      "284 conv2d_90 False\n",
      "285 batch_normalization_86 False\n",
      "286 batch_normalization_90 False\n",
      "287 activation_86 False\n",
      "288 activation_90 False\n",
      "289 conv2d_87 False\n",
      "290 conv2d_88 False\n",
      "291 conv2d_91 False\n",
      "292 conv2d_92 False\n",
      "293 average_pooling2d_8 False\n",
      "294 conv2d_85 False\n",
      "295 batch_normalization_87 False\n",
      "296 batch_normalization_88 False\n",
      "297 batch_normalization_91 False\n",
      "298 batch_normalization_92 False\n",
      "299 conv2d_93 False\n",
      "300 batch_normalization_85 False\n",
      "301 activation_87 False\n",
      "302 activation_88 False\n",
      "303 activation_91 False\n",
      "304 activation_92 False\n",
      "305 batch_normalization_93 False\n",
      "306 activation_85 False\n",
      "307 mixed9_1 False\n",
      "308 concatenate_1 False\n",
      "309 activation_93 False\n",
      "310 mixed10 False\n",
      "311 global_average_pooling2d True\n",
      "312 flatten True\n",
      "313 dense True\n",
      "314 dropout True\n",
      "315 dense_1 True\n",
      "316 dropout_1 True\n",
      "317 dense_2 True\n"
     ]
    }
   ],
   "source": [
    "for i, layer in enumerate(model.layers):\n",
    "   print(i, layer.name, layer.trainable);"
   ]
  },
  {
   "cell_type": "code",
   "execution_count": 58,
   "metadata": {
    "colab": {},
    "colab_type": "code",
    "id": "13wI85dV2Lgp"
   },
   "outputs": [],
   "source": [
    "# model.summary()"
   ]
  },
  {
   "cell_type": "markdown",
   "metadata": {},
   "source": [
    "## Training the top layer"
   ]
  },
  {
   "cell_type": "code",
   "execution_count": 59,
   "metadata": {
    "colab": {},
    "colab_type": "code",
    "id": "WTLjtSp72QYA"
   },
   "outputs": [],
   "source": [
    "opt = optimizers.Adam(lr=0.001)\n",
    "\n",
    "# compile the model (should be done *after* setting layers to non-trainable)\n",
    "model.compile(optimizer=opt, loss='categorical_crossentropy',metrics=['accuracy'])"
   ]
  },
  {
   "cell_type": "code",
   "execution_count": 60,
   "metadata": {
    "colab": {},
    "colab_type": "code",
    "id": "lba_04Pd2U2Z"
   },
   "outputs": [],
   "source": [
    "batch_size = 16\n",
    "lr = 0.001\n",
    "\n",
    "train_steps = df.shape[0]//batch_size\n",
    "val_steps = df_val.shape[0]//batch_size\n",
    "epochs = 10\n",
    "es = EarlyStopping(patience=5)\n",
    "chkpt = ModelCheckpoint(filepath='input/toptune_weights_{epoch:02d}_{val_acc:.2f}_{val_loss:.2f}.hdf5', verbose=1, save_best_only=True, mode='auto')\n",
    "# reduce_lr = ReduceLROnPlateau(monitor='val_loss', factor=0.2, patience=5, min_lr=0.0001)"
   ]
  },
  {
   "cell_type": "code",
   "execution_count": 61,
   "metadata": {
    "colab": {
     "base_uri": "https://localhost:8080/",
     "height": 374
    },
    "colab_type": "code",
    "id": "CSgsgoM22Wd1",
    "outputId": "9fb92073-8cea-4ea3-b5aa-6fa12e39c77b"
   },
   "outputs": [
    {
     "name": "stdout",
     "output_type": "stream",
     "text": [
      "Epoch 1/10\n",
      "325/326 [============================>.] - ETA: 0s - loss: 0.3566 - acc: 0.8556\n",
      "Epoch 00001: val_loss improved from inf to 1.40210, saving model to input/toptune_weights_01_0.50_1.40.hdf5\n",
      "326/326 [==============================] - 58s 178ms/step - loss: 0.3563 - acc: 0.8558 - val_loss: 1.4021 - val_acc: 0.5000\n",
      "Epoch 2/10\n",
      "325/326 [============================>.] - ETA: 0s - loss: 0.2367 - acc: 0.9029\n",
      "Epoch 00002: val_loss did not improve from 1.40210\n",
      "326/326 [==============================] - 44s 134ms/step - loss: 0.2370 - acc: 0.9026 - val_loss: 1.8864 - val_acc: 0.5000\n",
      "Epoch 3/10\n",
      "325/326 [============================>.] - ETA: 0s - loss: 0.2146 - acc: 0.9138\n",
      "Epoch 00003: val_loss improved from 1.40210 to 1.16552, saving model to input/toptune_weights_03_0.56_1.17.hdf5\n",
      "326/326 [==============================] - 43s 132ms/step - loss: 0.2148 - acc: 0.9137 - val_loss: 1.1655 - val_acc: 0.5625\n",
      "Epoch 4/10\n",
      "325/326 [============================>.] - ETA: 0s - loss: 0.1992 - acc: 0.9215\n",
      "Epoch 00004: val_loss did not improve from 1.16552\n",
      "326/326 [==============================] - 42s 129ms/step - loss: 0.1997 - acc: 0.9212 - val_loss: 1.5825 - val_acc: 0.5000\n",
      "Epoch 5/10\n",
      "325/326 [============================>.] - ETA: 0s - loss: 0.2011 - acc: 0.9238\n",
      "Epoch 00005: val_loss improved from 1.16552 to 1.12811, saving model to input/toptune_weights_05_0.50_1.13.hdf5\n",
      "326/326 [==============================] - 43s 133ms/step - loss: 0.2014 - acc: 0.9239 - val_loss: 1.1281 - val_acc: 0.5000\n",
      "Epoch 6/10\n",
      "325/326 [============================>.] - ETA: 0s - loss: 0.1852 - acc: 0.9290\n",
      "Epoch 00006: val_loss did not improve from 1.12811\n",
      "326/326 [==============================] - 43s 131ms/step - loss: 0.1850 - acc: 0.9293 - val_loss: 1.6902 - val_acc: 0.5000\n",
      "Epoch 7/10\n",
      "325/326 [============================>.] - ETA: 0s - loss: 0.1780 - acc: 0.9294\n",
      "Epoch 00007: val_loss did not improve from 1.12811\n",
      "326/326 [==============================] - 42s 130ms/step - loss: 0.1785 - acc: 0.9294 - val_loss: 1.6538 - val_acc: 0.5000\n",
      "Epoch 8/10\n",
      "325/326 [============================>.] - ETA: 0s - loss: 0.1793 - acc: 0.9302\n",
      "Epoch 00008: val_loss did not improve from 1.12811\n",
      "326/326 [==============================] - 44s 134ms/step - loss: 0.1796 - acc: 0.9300 - val_loss: 1.5944 - val_acc: 0.5000\n",
      "Epoch 9/10\n",
      "325/326 [============================>.] - ETA: 0s - loss: 0.1722 - acc: 0.9333\n",
      "Epoch 00009: val_loss did not improve from 1.12811\n",
      "326/326 [==============================] - 43s 133ms/step - loss: 0.1724 - acc: 0.9333 - val_loss: 1.7274 - val_acc: 0.5000\n",
      "Epoch 10/10\n",
      "325/326 [============================>.] - ETA: 0s - loss: 0.1638 - acc: 0.9333\n",
      "Epoch 00010: val_loss did not improve from 1.12811\n",
      "326/326 [==============================] - 43s 132ms/step - loss: 0.1642 - acc: 0.9329 - val_loss: 2.5728 - val_acc: 0.5000\n"
     ]
    },
    {
     "data": {
      "text/plain": [
       "<tensorflow.python.keras.callbacks.History at 0x266a08a8208>"
      ]
     },
     "execution_count": 61,
     "metadata": {},
     "output_type": "execute_result"
    }
   ],
   "source": [
    "# # # Train the model with validation \n",
    "model.fit(train_dataset, steps_per_epoch = train_steps,\n",
    "                 epochs = epochs,\n",
    "                 validation_data = valid_dataset,\n",
    "                 validation_steps = val_steps,class_weight='auto',\n",
    "                 callbacks=[chkpt])"
   ]
  },
  {
   "cell_type": "code",
   "execution_count": 62,
   "metadata": {
    "colab": {
     "base_uri": "https://localhost:8080/",
     "height": 5423
    },
    "colab_type": "code",
    "id": "4u2y1npjgSKP",
    "outputId": "115b6273-d0b1-4b2c-cbcf-8f74ca6efae2"
   },
   "outputs": [
    {
     "name": "stdout",
     "output_type": "stream",
     "text": [
      "0 input_1\n",
      "1 conv2d\n",
      "2 batch_normalization\n",
      "3 activation\n",
      "4 conv2d_1\n",
      "5 batch_normalization_1\n",
      "6 activation_1\n",
      "7 conv2d_2\n",
      "8 batch_normalization_2\n",
      "9 activation_2\n",
      "10 max_pooling2d\n",
      "11 conv2d_3\n",
      "12 batch_normalization_3\n",
      "13 activation_3\n",
      "14 conv2d_4\n",
      "15 batch_normalization_4\n",
      "16 activation_4\n",
      "17 max_pooling2d_1\n",
      "18 conv2d_8\n",
      "19 batch_normalization_8\n",
      "20 activation_8\n",
      "21 conv2d_6\n",
      "22 conv2d_9\n",
      "23 batch_normalization_6\n",
      "24 batch_normalization_9\n",
      "25 activation_6\n",
      "26 activation_9\n",
      "27 average_pooling2d\n",
      "28 conv2d_5\n",
      "29 conv2d_7\n",
      "30 conv2d_10\n",
      "31 conv2d_11\n",
      "32 batch_normalization_5\n",
      "33 batch_normalization_7\n",
      "34 batch_normalization_10\n",
      "35 batch_normalization_11\n",
      "36 activation_5\n",
      "37 activation_7\n",
      "38 activation_10\n",
      "39 activation_11\n",
      "40 mixed0\n",
      "41 conv2d_15\n",
      "42 batch_normalization_15\n",
      "43 activation_15\n",
      "44 conv2d_13\n",
      "45 conv2d_16\n",
      "46 batch_normalization_13\n",
      "47 batch_normalization_16\n",
      "48 activation_13\n",
      "49 activation_16\n",
      "50 average_pooling2d_1\n",
      "51 conv2d_12\n",
      "52 conv2d_14\n",
      "53 conv2d_17\n",
      "54 conv2d_18\n",
      "55 batch_normalization_12\n",
      "56 batch_normalization_14\n",
      "57 batch_normalization_17\n",
      "58 batch_normalization_18\n",
      "59 activation_12\n",
      "60 activation_14\n",
      "61 activation_17\n",
      "62 activation_18\n",
      "63 mixed1\n",
      "64 conv2d_22\n",
      "65 batch_normalization_22\n",
      "66 activation_22\n",
      "67 conv2d_20\n",
      "68 conv2d_23\n",
      "69 batch_normalization_20\n",
      "70 batch_normalization_23\n",
      "71 activation_20\n",
      "72 activation_23\n",
      "73 average_pooling2d_2\n",
      "74 conv2d_19\n",
      "75 conv2d_21\n",
      "76 conv2d_24\n",
      "77 conv2d_25\n",
      "78 batch_normalization_19\n",
      "79 batch_normalization_21\n",
      "80 batch_normalization_24\n",
      "81 batch_normalization_25\n",
      "82 activation_19\n",
      "83 activation_21\n",
      "84 activation_24\n",
      "85 activation_25\n",
      "86 mixed2\n",
      "87 conv2d_27\n",
      "88 batch_normalization_27\n",
      "89 activation_27\n",
      "90 conv2d_28\n",
      "91 batch_normalization_28\n",
      "92 activation_28\n",
      "93 conv2d_26\n",
      "94 conv2d_29\n",
      "95 batch_normalization_26\n",
      "96 batch_normalization_29\n",
      "97 activation_26\n",
      "98 activation_29\n",
      "99 max_pooling2d_2\n",
      "100 mixed3\n",
      "101 conv2d_34\n",
      "102 batch_normalization_34\n",
      "103 activation_34\n",
      "104 conv2d_35\n",
      "105 batch_normalization_35\n",
      "106 activation_35\n",
      "107 conv2d_31\n",
      "108 conv2d_36\n",
      "109 batch_normalization_31\n",
      "110 batch_normalization_36\n",
      "111 activation_31\n",
      "112 activation_36\n",
      "113 conv2d_32\n",
      "114 conv2d_37\n",
      "115 batch_normalization_32\n",
      "116 batch_normalization_37\n",
      "117 activation_32\n",
      "118 activation_37\n",
      "119 average_pooling2d_3\n",
      "120 conv2d_30\n",
      "121 conv2d_33\n",
      "122 conv2d_38\n",
      "123 conv2d_39\n",
      "124 batch_normalization_30\n",
      "125 batch_normalization_33\n",
      "126 batch_normalization_38\n",
      "127 batch_normalization_39\n",
      "128 activation_30\n",
      "129 activation_33\n",
      "130 activation_38\n",
      "131 activation_39\n",
      "132 mixed4\n",
      "133 conv2d_44\n",
      "134 batch_normalization_44\n",
      "135 activation_44\n",
      "136 conv2d_45\n",
      "137 batch_normalization_45\n",
      "138 activation_45\n",
      "139 conv2d_41\n",
      "140 conv2d_46\n",
      "141 batch_normalization_41\n",
      "142 batch_normalization_46\n",
      "143 activation_41\n",
      "144 activation_46\n",
      "145 conv2d_42\n",
      "146 conv2d_47\n",
      "147 batch_normalization_42\n",
      "148 batch_normalization_47\n",
      "149 activation_42\n",
      "150 activation_47\n",
      "151 average_pooling2d_4\n",
      "152 conv2d_40\n",
      "153 conv2d_43\n",
      "154 conv2d_48\n",
      "155 conv2d_49\n",
      "156 batch_normalization_40\n",
      "157 batch_normalization_43\n",
      "158 batch_normalization_48\n",
      "159 batch_normalization_49\n",
      "160 activation_40\n",
      "161 activation_43\n",
      "162 activation_48\n",
      "163 activation_49\n",
      "164 mixed5\n",
      "165 conv2d_54\n",
      "166 batch_normalization_54\n",
      "167 activation_54\n",
      "168 conv2d_55\n",
      "169 batch_normalization_55\n",
      "170 activation_55\n",
      "171 conv2d_51\n",
      "172 conv2d_56\n",
      "173 batch_normalization_51\n",
      "174 batch_normalization_56\n",
      "175 activation_51\n",
      "176 activation_56\n",
      "177 conv2d_52\n",
      "178 conv2d_57\n",
      "179 batch_normalization_52\n",
      "180 batch_normalization_57\n",
      "181 activation_52\n",
      "182 activation_57\n",
      "183 average_pooling2d_5\n",
      "184 conv2d_50\n",
      "185 conv2d_53\n",
      "186 conv2d_58\n",
      "187 conv2d_59\n",
      "188 batch_normalization_50\n",
      "189 batch_normalization_53\n",
      "190 batch_normalization_58\n",
      "191 batch_normalization_59\n",
      "192 activation_50\n",
      "193 activation_53\n",
      "194 activation_58\n",
      "195 activation_59\n",
      "196 mixed6\n",
      "197 conv2d_64\n",
      "198 batch_normalization_64\n",
      "199 activation_64\n",
      "200 conv2d_65\n",
      "201 batch_normalization_65\n",
      "202 activation_65\n",
      "203 conv2d_61\n",
      "204 conv2d_66\n",
      "205 batch_normalization_61\n",
      "206 batch_normalization_66\n",
      "207 activation_61\n",
      "208 activation_66\n",
      "209 conv2d_62\n",
      "210 conv2d_67\n",
      "211 batch_normalization_62\n",
      "212 batch_normalization_67\n",
      "213 activation_62\n",
      "214 activation_67\n",
      "215 average_pooling2d_6\n",
      "216 conv2d_60\n",
      "217 conv2d_63\n",
      "218 conv2d_68\n",
      "219 conv2d_69\n",
      "220 batch_normalization_60\n",
      "221 batch_normalization_63\n",
      "222 batch_normalization_68\n",
      "223 batch_normalization_69\n",
      "224 activation_60\n",
      "225 activation_63\n",
      "226 activation_68\n",
      "227 activation_69\n",
      "228 mixed7\n",
      "229 conv2d_72\n",
      "230 batch_normalization_72\n",
      "231 activation_72\n",
      "232 conv2d_73\n",
      "233 batch_normalization_73\n",
      "234 activation_73\n",
      "235 conv2d_70\n",
      "236 conv2d_74\n",
      "237 batch_normalization_70\n",
      "238 batch_normalization_74\n",
      "239 activation_70\n",
      "240 activation_74\n",
      "241 conv2d_71\n",
      "242 conv2d_75\n",
      "243 batch_normalization_71\n",
      "244 batch_normalization_75\n",
      "245 activation_71\n",
      "246 activation_75\n",
      "247 max_pooling2d_3\n",
      "248 mixed8\n",
      "249 conv2d_80\n",
      "250 batch_normalization_80\n",
      "251 activation_80\n",
      "252 conv2d_77\n",
      "253 conv2d_81\n",
      "254 batch_normalization_77\n",
      "255 batch_normalization_81\n",
      "256 activation_77\n",
      "257 activation_81\n",
      "258 conv2d_78\n",
      "259 conv2d_79\n",
      "260 conv2d_82\n",
      "261 conv2d_83\n",
      "262 average_pooling2d_7\n",
      "263 conv2d_76\n",
      "264 batch_normalization_78\n",
      "265 batch_normalization_79\n",
      "266 batch_normalization_82\n",
      "267 batch_normalization_83\n",
      "268 conv2d_84\n",
      "269 batch_normalization_76\n",
      "270 activation_78\n",
      "271 activation_79\n",
      "272 activation_82\n",
      "273 activation_83\n",
      "274 batch_normalization_84\n",
      "275 activation_76\n",
      "276 mixed9_0\n",
      "277 concatenate\n",
      "278 activation_84\n",
      "279 mixed9\n",
      "280 conv2d_89\n",
      "281 batch_normalization_89\n",
      "282 activation_89\n",
      "283 conv2d_86\n",
      "284 conv2d_90\n",
      "285 batch_normalization_86\n",
      "286 batch_normalization_90\n",
      "287 activation_86\n",
      "288 activation_90\n",
      "289 conv2d_87\n",
      "290 conv2d_88\n",
      "291 conv2d_91\n",
      "292 conv2d_92\n",
      "293 average_pooling2d_8\n",
      "294 conv2d_85\n",
      "295 batch_normalization_87\n",
      "296 batch_normalization_88\n",
      "297 batch_normalization_91\n",
      "298 batch_normalization_92\n",
      "299 conv2d_93\n",
      "300 batch_normalization_85\n",
      "301 activation_87\n",
      "302 activation_88\n",
      "303 activation_91\n",
      "304 activation_92\n",
      "305 batch_normalization_93\n",
      "306 activation_85\n",
      "307 mixed9_1\n",
      "308 concatenate_1\n",
      "309 activation_93\n",
      "310 mixed10\n",
      "311 global_average_pooling2d\n",
      "312 flatten\n",
      "313 dense\n",
      "314 dropout\n",
      "315 dense_1\n",
      "316 dropout_1\n",
      "317 dense_2\n"
     ]
    }
   ],
   "source": [
    "for i, layer in enumerate(model.layers):\n",
    "   print(i, layer.name)"
   ]
  },
  {
   "cell_type": "code",
   "execution_count": 63,
   "metadata": {
    "colab": {},
    "colab_type": "code",
    "id": "FUrPeW5pgU5L"
   },
   "outputs": [],
   "source": [
    "# for layer in model.layers[:249]:\n",
    "#    layer.trainable = False\n",
    "# for layer in model.layers[249:]:\n",
    "#    layer.trainable = True"
   ]
  },
  {
   "cell_type": "markdown",
   "metadata": {},
   "source": [
    "## Fine tuning the model"
   ]
  },
  {
   "cell_type": "code",
   "execution_count": 64,
   "metadata": {
    "colab": {},
    "colab_type": "code",
    "id": "podbahb7g8WI"
   },
   "outputs": [],
   "source": [
    "# Freeze the InceptionV3 layers in the new model except the BatchNorm\n",
    "for layer in model.layers:\n",
    "    if 'batch' in layer.name:\n",
    "#       print(layer.name)\n",
    "      layer.trainable = True\n",
    "    else:\n",
    "      layer.trainable = False"
   ]
  },
  {
   "cell_type": "code",
   "execution_count": 65,
   "metadata": {
    "colab": {
     "base_uri": "https://localhost:8080/",
     "height": 5423
    },
    "colab_type": "code",
    "id": "FO0pUgj1JY5G",
    "outputId": "cf294586-f645-407e-a3b5-6dd91fbdee5a"
   },
   "outputs": [
    {
     "name": "stdout",
     "output_type": "stream",
     "text": [
      "0 input_1 False\n",
      "1 conv2d False\n",
      "2 batch_normalization True\n",
      "3 activation False\n",
      "4 conv2d_1 False\n",
      "5 batch_normalization_1 True\n",
      "6 activation_1 False\n",
      "7 conv2d_2 False\n",
      "8 batch_normalization_2 True\n",
      "9 activation_2 False\n",
      "10 max_pooling2d False\n",
      "11 conv2d_3 False\n",
      "12 batch_normalization_3 True\n",
      "13 activation_3 False\n",
      "14 conv2d_4 False\n",
      "15 batch_normalization_4 True\n",
      "16 activation_4 False\n",
      "17 max_pooling2d_1 False\n",
      "18 conv2d_8 False\n",
      "19 batch_normalization_8 True\n",
      "20 activation_8 False\n",
      "21 conv2d_6 False\n",
      "22 conv2d_9 False\n",
      "23 batch_normalization_6 True\n",
      "24 batch_normalization_9 True\n",
      "25 activation_6 False\n",
      "26 activation_9 False\n",
      "27 average_pooling2d False\n",
      "28 conv2d_5 False\n",
      "29 conv2d_7 False\n",
      "30 conv2d_10 False\n",
      "31 conv2d_11 False\n",
      "32 batch_normalization_5 True\n",
      "33 batch_normalization_7 True\n",
      "34 batch_normalization_10 True\n",
      "35 batch_normalization_11 True\n",
      "36 activation_5 False\n",
      "37 activation_7 False\n",
      "38 activation_10 False\n",
      "39 activation_11 False\n",
      "40 mixed0 False\n",
      "41 conv2d_15 False\n",
      "42 batch_normalization_15 True\n",
      "43 activation_15 False\n",
      "44 conv2d_13 False\n",
      "45 conv2d_16 False\n",
      "46 batch_normalization_13 True\n",
      "47 batch_normalization_16 True\n",
      "48 activation_13 False\n",
      "49 activation_16 False\n",
      "50 average_pooling2d_1 False\n",
      "51 conv2d_12 False\n",
      "52 conv2d_14 False\n",
      "53 conv2d_17 False\n",
      "54 conv2d_18 False\n",
      "55 batch_normalization_12 True\n",
      "56 batch_normalization_14 True\n",
      "57 batch_normalization_17 True\n",
      "58 batch_normalization_18 True\n",
      "59 activation_12 False\n",
      "60 activation_14 False\n",
      "61 activation_17 False\n",
      "62 activation_18 False\n",
      "63 mixed1 False\n",
      "64 conv2d_22 False\n",
      "65 batch_normalization_22 True\n",
      "66 activation_22 False\n",
      "67 conv2d_20 False\n",
      "68 conv2d_23 False\n",
      "69 batch_normalization_20 True\n",
      "70 batch_normalization_23 True\n",
      "71 activation_20 False\n",
      "72 activation_23 False\n",
      "73 average_pooling2d_2 False\n",
      "74 conv2d_19 False\n",
      "75 conv2d_21 False\n",
      "76 conv2d_24 False\n",
      "77 conv2d_25 False\n",
      "78 batch_normalization_19 True\n",
      "79 batch_normalization_21 True\n",
      "80 batch_normalization_24 True\n",
      "81 batch_normalization_25 True\n",
      "82 activation_19 False\n",
      "83 activation_21 False\n",
      "84 activation_24 False\n",
      "85 activation_25 False\n",
      "86 mixed2 False\n",
      "87 conv2d_27 False\n",
      "88 batch_normalization_27 True\n",
      "89 activation_27 False\n",
      "90 conv2d_28 False\n",
      "91 batch_normalization_28 True\n",
      "92 activation_28 False\n",
      "93 conv2d_26 False\n",
      "94 conv2d_29 False\n",
      "95 batch_normalization_26 True\n",
      "96 batch_normalization_29 True\n",
      "97 activation_26 False\n",
      "98 activation_29 False\n",
      "99 max_pooling2d_2 False\n",
      "100 mixed3 False\n",
      "101 conv2d_34 False\n",
      "102 batch_normalization_34 True\n",
      "103 activation_34 False\n",
      "104 conv2d_35 False\n",
      "105 batch_normalization_35 True\n",
      "106 activation_35 False\n",
      "107 conv2d_31 False\n",
      "108 conv2d_36 False\n",
      "109 batch_normalization_31 True\n",
      "110 batch_normalization_36 True\n",
      "111 activation_31 False\n",
      "112 activation_36 False\n",
      "113 conv2d_32 False\n",
      "114 conv2d_37 False\n",
      "115 batch_normalization_32 True\n",
      "116 batch_normalization_37 True\n",
      "117 activation_32 False\n",
      "118 activation_37 False\n",
      "119 average_pooling2d_3 False\n",
      "120 conv2d_30 False\n",
      "121 conv2d_33 False\n",
      "122 conv2d_38 False\n",
      "123 conv2d_39 False\n",
      "124 batch_normalization_30 True\n",
      "125 batch_normalization_33 True\n",
      "126 batch_normalization_38 True\n",
      "127 batch_normalization_39 True\n",
      "128 activation_30 False\n",
      "129 activation_33 False\n",
      "130 activation_38 False\n",
      "131 activation_39 False\n",
      "132 mixed4 False\n",
      "133 conv2d_44 False\n",
      "134 batch_normalization_44 True\n",
      "135 activation_44 False\n",
      "136 conv2d_45 False\n",
      "137 batch_normalization_45 True\n",
      "138 activation_45 False\n",
      "139 conv2d_41 False\n",
      "140 conv2d_46 False\n",
      "141 batch_normalization_41 True\n",
      "142 batch_normalization_46 True\n",
      "143 activation_41 False\n",
      "144 activation_46 False\n",
      "145 conv2d_42 False\n",
      "146 conv2d_47 False\n",
      "147 batch_normalization_42 True\n",
      "148 batch_normalization_47 True\n",
      "149 activation_42 False\n",
      "150 activation_47 False\n",
      "151 average_pooling2d_4 False\n",
      "152 conv2d_40 False\n",
      "153 conv2d_43 False\n",
      "154 conv2d_48 False\n",
      "155 conv2d_49 False\n",
      "156 batch_normalization_40 True\n",
      "157 batch_normalization_43 True\n",
      "158 batch_normalization_48 True\n",
      "159 batch_normalization_49 True\n",
      "160 activation_40 False\n",
      "161 activation_43 False\n",
      "162 activation_48 False\n",
      "163 activation_49 False\n",
      "164 mixed5 False\n",
      "165 conv2d_54 False\n",
      "166 batch_normalization_54 True\n",
      "167 activation_54 False\n",
      "168 conv2d_55 False\n",
      "169 batch_normalization_55 True\n",
      "170 activation_55 False\n",
      "171 conv2d_51 False\n",
      "172 conv2d_56 False\n",
      "173 batch_normalization_51 True\n",
      "174 batch_normalization_56 True\n",
      "175 activation_51 False\n",
      "176 activation_56 False\n",
      "177 conv2d_52 False\n",
      "178 conv2d_57 False\n",
      "179 batch_normalization_52 True\n",
      "180 batch_normalization_57 True\n",
      "181 activation_52 False\n",
      "182 activation_57 False\n",
      "183 average_pooling2d_5 False\n",
      "184 conv2d_50 False\n",
      "185 conv2d_53 False\n",
      "186 conv2d_58 False\n",
      "187 conv2d_59 False\n",
      "188 batch_normalization_50 True\n",
      "189 batch_normalization_53 True\n",
      "190 batch_normalization_58 True\n",
      "191 batch_normalization_59 True\n",
      "192 activation_50 False\n",
      "193 activation_53 False\n",
      "194 activation_58 False\n",
      "195 activation_59 False\n",
      "196 mixed6 False\n",
      "197 conv2d_64 False\n",
      "198 batch_normalization_64 True\n",
      "199 activation_64 False\n",
      "200 conv2d_65 False\n",
      "201 batch_normalization_65 True\n",
      "202 activation_65 False\n",
      "203 conv2d_61 False\n",
      "204 conv2d_66 False\n",
      "205 batch_normalization_61 True\n",
      "206 batch_normalization_66 True\n",
      "207 activation_61 False\n",
      "208 activation_66 False\n",
      "209 conv2d_62 False\n",
      "210 conv2d_67 False\n",
      "211 batch_normalization_62 True\n",
      "212 batch_normalization_67 True\n",
      "213 activation_62 False\n",
      "214 activation_67 False\n",
      "215 average_pooling2d_6 False\n",
      "216 conv2d_60 False\n",
      "217 conv2d_63 False\n",
      "218 conv2d_68 False\n",
      "219 conv2d_69 False\n",
      "220 batch_normalization_60 True\n",
      "221 batch_normalization_63 True\n",
      "222 batch_normalization_68 True\n",
      "223 batch_normalization_69 True\n",
      "224 activation_60 False\n",
      "225 activation_63 False\n",
      "226 activation_68 False\n",
      "227 activation_69 False\n",
      "228 mixed7 False\n",
      "229 conv2d_72 False\n",
      "230 batch_normalization_72 True\n",
      "231 activation_72 False\n",
      "232 conv2d_73 False\n",
      "233 batch_normalization_73 True\n",
      "234 activation_73 False\n",
      "235 conv2d_70 False\n",
      "236 conv2d_74 False\n",
      "237 batch_normalization_70 True\n",
      "238 batch_normalization_74 True\n",
      "239 activation_70 False\n",
      "240 activation_74 False\n",
      "241 conv2d_71 False\n",
      "242 conv2d_75 False\n",
      "243 batch_normalization_71 True\n",
      "244 batch_normalization_75 True\n",
      "245 activation_71 False\n",
      "246 activation_75 False\n",
      "247 max_pooling2d_3 False\n",
      "248 mixed8 False\n",
      "249 conv2d_80 False\n",
      "250 batch_normalization_80 True\n",
      "251 activation_80 False\n",
      "252 conv2d_77 False\n",
      "253 conv2d_81 False\n",
      "254 batch_normalization_77 True\n",
      "255 batch_normalization_81 True\n",
      "256 activation_77 False\n",
      "257 activation_81 False\n",
      "258 conv2d_78 False\n",
      "259 conv2d_79 False\n",
      "260 conv2d_82 False\n",
      "261 conv2d_83 False\n",
      "262 average_pooling2d_7 False\n",
      "263 conv2d_76 False\n",
      "264 batch_normalization_78 True\n",
      "265 batch_normalization_79 True\n",
      "266 batch_normalization_82 True\n",
      "267 batch_normalization_83 True\n",
      "268 conv2d_84 False\n",
      "269 batch_normalization_76 True\n",
      "270 activation_78 False\n",
      "271 activation_79 False\n",
      "272 activation_82 False\n",
      "273 activation_83 False\n",
      "274 batch_normalization_84 True\n",
      "275 activation_76 False\n",
      "276 mixed9_0 False\n",
      "277 concatenate False\n",
      "278 activation_84 False\n",
      "279 mixed9 False\n",
      "280 conv2d_89 False\n",
      "281 batch_normalization_89 True\n",
      "282 activation_89 False\n",
      "283 conv2d_86 False\n",
      "284 conv2d_90 False\n",
      "285 batch_normalization_86 True\n",
      "286 batch_normalization_90 True\n",
      "287 activation_86 False\n",
      "288 activation_90 False\n",
      "289 conv2d_87 False\n",
      "290 conv2d_88 False\n",
      "291 conv2d_91 False\n",
      "292 conv2d_92 False\n",
      "293 average_pooling2d_8 False\n",
      "294 conv2d_85 False\n",
      "295 batch_normalization_87 True\n",
      "296 batch_normalization_88 True\n",
      "297 batch_normalization_91 True\n",
      "298 batch_normalization_92 True\n",
      "299 conv2d_93 False\n",
      "300 batch_normalization_85 True\n",
      "301 activation_87 False\n",
      "302 activation_88 False\n",
      "303 activation_91 False\n",
      "304 activation_92 False\n",
      "305 batch_normalization_93 True\n",
      "306 activation_85 False\n",
      "307 mixed9_1 False\n",
      "308 concatenate_1 False\n",
      "309 activation_93 False\n",
      "310 mixed10 False\n",
      "311 global_average_pooling2d False\n",
      "312 flatten False\n",
      "313 dense False\n",
      "314 dropout False\n",
      "315 dense_1 False\n",
      "316 dropout_1 False\n",
      "317 dense_2 False\n"
     ]
    }
   ],
   "source": [
    "for i, layer in enumerate(model.layers):\n",
    "   print(i, layer.name, layer.trainable)"
   ]
  },
  {
   "cell_type": "code",
   "execution_count": 66,
   "metadata": {
    "colab": {
     "base_uri": "https://localhost:8080/",
     "height": 51
    },
    "colab_type": "code",
    "id": "R7QSspgS2ZUZ",
    "outputId": "94e81ba5-c286-476f-d477-c55f49d8bf5e"
   },
   "outputs": [
    {
     "name": "stdout",
     "output_type": "stream",
     "text": [
      "1/1 [==============================] - 0s 177ms/step\n",
      "model accuracy: 0.5\n"
     ]
    }
   ],
   "source": [
    "metrics = model.evaluate(valid_dataset,steps = val_steps)\n",
    "print(\"model accuracy:\",metrics[1])"
   ]
  },
  {
   "cell_type": "code",
   "execution_count": 67,
   "metadata": {
    "colab": {},
    "colab_type": "code",
    "id": "_Otp1N-DveMb"
   },
   "outputs": [],
   "source": [
    "# opt = optimizers.Adam(lr=0.001,decay=0.3,amsgrad=True)\n",
    "opt = optimizers.Nadam()\n",
    "model.compile(optimizer=opt, loss='categorical_crossentropy',metrics=['accuracy'])"
   ]
  },
  {
   "cell_type": "code",
   "execution_count": 68,
   "metadata": {
    "colab": {},
    "colab_type": "code",
    "id": "XHS5kg7UigzD"
   },
   "outputs": [],
   "source": [
    "epochs = 60\n",
    "es = EarlyStopping(patience=10)\n",
    "chkpt = ModelCheckpoint(filepath='input/finetune_weights_{epoch:02d}_{val_acc:.2f}_{val_loss:.2f}.hdf5', verbose=1, save_best_only=True, mode='auto')\n",
    "chkpt2 = ModelCheckpoint(filepath='input/finetune_weights_last_only.hdf5', verbose=1, save_best_only=False, mode='auto')\n",
    "# reduce_lr = ReduceLROnPlateau(monitor='val_loss', factor=0.2, patience=3, min_lr=0.0001)"
   ]
  },
  {
   "cell_type": "code",
   "execution_count": 69,
   "metadata": {
    "colab": {
     "base_uri": "https://localhost:8080/",
     "height": 255
    },
    "colab_type": "code",
    "id": "MUHRXp2RiPeY",
    "outputId": "9b678ddd-2ce2-4a34-ba95-3940395a0b98"
   },
   "outputs": [
    {
     "name": "stdout",
     "output_type": "stream",
     "text": [
      "Epoch 1/60\n",
      "325/326 [============================>.] - ETA: 0s - loss: 0.1308 - acc: 0.9477\n",
      "Epoch 00001: val_loss improved from inf to 3.25306, saving model to input/finetune_weights_01_0.50_3.25.hdf5\n",
      "\n",
      "Epoch 00001: saving model to input/finetune_weights_last_only.hdf5\n",
      "326/326 [==============================] - 59s 180ms/step - loss: 0.1308 - acc: 0.9477 - val_loss: 3.2531 - val_acc: 0.5000\n",
      "Epoch 2/60\n",
      "325/326 [============================>.] - ETA: 0s - loss: 0.0953 - acc: 0.9646\n",
      "Epoch 00002: val_loss improved from 3.25306 to 1.42256, saving model to input/finetune_weights_02_0.56_1.42.hdf5\n",
      "\n",
      "Epoch 00002: saving model to input/finetune_weights_last_only.hdf5\n",
      "326/326 [==============================] - 49s 151ms/step - loss: 0.0952 - acc: 0.9647 - val_loss: 1.4226 - val_acc: 0.5625\n",
      "Epoch 3/60\n",
      "325/326 [============================>.] - ETA: 0s - loss: 0.0802 - acc: 0.9685\n",
      "Epoch 00003: val_loss improved from 1.42256 to 0.57769, saving model to input/finetune_weights_03_0.75_0.58.hdf5\n",
      "\n",
      "Epoch 00003: saving model to input/finetune_weights_last_only.hdf5\n",
      "326/326 [==============================] - 50s 153ms/step - loss: 0.0805 - acc: 0.9682 - val_loss: 0.5777 - val_acc: 0.7500\n",
      "Epoch 4/60\n",
      "325/326 [============================>.] - ETA: 0s - loss: 0.0628 - acc: 0.9781\n",
      "Epoch 00004: val_loss improved from 0.57769 to 0.41102, saving model to input/finetune_weights_04_0.81_0.41.hdf5\n",
      "\n",
      "Epoch 00004: saving model to input/finetune_weights_last_only.hdf5\n",
      "326/326 [==============================] - 49s 152ms/step - loss: 0.0635 - acc: 0.9780 - val_loss: 0.4110 - val_acc: 0.8125\n",
      "Epoch 5/60\n",
      "325/326 [============================>.] - ETA: 0s - loss: 0.0545 - acc: 0.9817\n",
      "Epoch 00005: val_loss improved from 0.41102 to 0.38749, saving model to input/finetune_weights_05_0.88_0.39.hdf5\n",
      "\n",
      "Epoch 00005: saving model to input/finetune_weights_last_only.hdf5\n",
      "326/326 [==============================] - 49s 150ms/step - loss: 0.0546 - acc: 0.9816 - val_loss: 0.3875 - val_acc: 0.8750\n",
      "Epoch 6/60\n",
      "325/326 [============================>.] - ETA: 0s - loss: 0.0431 - acc: 0.9844\n",
      "Epoch 00006: val_loss did not improve from 0.38749\n",
      "\n",
      "Epoch 00006: saving model to input/finetune_weights_last_only.hdf5\n",
      "326/326 [==============================] - 49s 150ms/step - loss: 0.0431 - acc: 0.9845 - val_loss: 0.6407 - val_acc: 0.8125\n",
      "Epoch 7/60\n",
      "325/326 [============================>.] - ETA: 0s - loss: 0.0439 - acc: 0.9848\n",
      "Epoch 00007: val_loss improved from 0.38749 to 0.35363, saving model to input/finetune_weights_07_0.88_0.35.hdf5\n",
      "\n",
      "Epoch 00007: saving model to input/finetune_weights_last_only.hdf5\n",
      "326/326 [==============================] - 49s 150ms/step - loss: 0.0445 - acc: 0.9845 - val_loss: 0.3536 - val_acc: 0.8750\n",
      "Epoch 8/60\n",
      "325/326 [============================>.] - ETA: 0s - loss: 0.0334 - acc: 0.9875\n",
      "Epoch 00008: val_loss did not improve from 0.35363\n",
      "\n",
      "Epoch 00008: saving model to input/finetune_weights_last_only.hdf5\n",
      "326/326 [==============================] - 48s 148ms/step - loss: 0.0334 - acc: 0.9875 - val_loss: 0.3759 - val_acc: 0.8750\n",
      "Epoch 9/60\n",
      "325/326 [============================>.] - ETA: 0s - loss: 0.0264 - acc: 0.9910\n",
      "Epoch 00009: val_loss improved from 0.35363 to 0.20375, saving model to input/finetune_weights_09_0.88_0.20.hdf5\n",
      "\n",
      "Epoch 00009: saving model to input/finetune_weights_last_only.hdf5\n",
      "326/326 [==============================] - 49s 150ms/step - loss: 0.0264 - acc: 0.9910 - val_loss: 0.2037 - val_acc: 0.8750\n",
      "Epoch 10/60\n",
      "325/326 [============================>.] - ETA: 0s - loss: 0.0218 - acc: 0.9925\n",
      "Epoch 00010: val_loss did not improve from 0.20375\n",
      "\n",
      "Epoch 00010: saving model to input/finetune_weights_last_only.hdf5\n",
      "326/326 [==============================] - 48s 148ms/step - loss: 0.0218 - acc: 0.9925 - val_loss: 0.3809 - val_acc: 0.8750\n",
      "Epoch 11/60\n",
      "325/326 [============================>.] - ETA: 0s - loss: 0.0157 - acc: 0.9954\n",
      "Epoch 00011: val_loss did not improve from 0.20375\n",
      "\n",
      "Epoch 00011: saving model to input/finetune_weights_last_only.hdf5\n",
      "326/326 [==============================] - 48s 148ms/step - loss: 0.0159 - acc: 0.9950 - val_loss: 0.3069 - val_acc: 0.8750\n",
      "Epoch 12/60\n",
      "325/326 [============================>.] - ETA: 0s - loss: 0.0207 - acc: 0.9927\n",
      "Epoch 00012: val_loss did not improve from 0.20375\n",
      "\n",
      "Epoch 00012: saving model to input/finetune_weights_last_only.hdf5\n",
      "326/326 [==============================] - 48s 148ms/step - loss: 0.0206 - acc: 0.9927 - val_loss: 0.4948 - val_acc: 0.8750\n",
      "Epoch 13/60\n",
      "325/326 [============================>.] - ETA: 0s - loss: 0.0138 - acc: 0.9960\n",
      "Epoch 00013: val_loss did not improve from 0.20375\n",
      "\n",
      "Epoch 00013: saving model to input/finetune_weights_last_only.hdf5\n",
      "326/326 [==============================] - 49s 149ms/step - loss: 0.0138 - acc: 0.9960 - val_loss: 0.4750 - val_acc: 0.8750\n",
      "Epoch 14/60\n",
      "325/326 [============================>.] - ETA: 0s - loss: 0.0160 - acc: 0.9942\n",
      "Epoch 00014: val_loss did not improve from 0.20375\n",
      "\n",
      "Epoch 00014: saving model to input/finetune_weights_last_only.hdf5\n",
      "326/326 [==============================] - 48s 148ms/step - loss: 0.0160 - acc: 0.9942 - val_loss: 0.3905 - val_acc: 0.8750\n",
      "Epoch 15/60\n",
      "325/326 [============================>.] - ETA: 0s - loss: 0.0088 - acc: 0.9975\n",
      "Epoch 00015: val_loss did not improve from 0.20375\n",
      "\n",
      "Epoch 00015: saving model to input/finetune_weights_last_only.hdf5\n",
      "326/326 [==============================] - 49s 150ms/step - loss: 0.0088 - acc: 0.9975 - val_loss: 0.8223 - val_acc: 0.8125\n",
      "Epoch 16/60\n",
      "325/326 [============================>.] - ETA: 0s - loss: 0.0102 - acc: 0.9971\n",
      "Epoch 00016: val_loss improved from 0.20375 to 0.18253, saving model to input/finetune_weights_16_0.94_0.18.hdf5\n",
      "\n",
      "Epoch 00016: saving model to input/finetune_weights_last_only.hdf5\n",
      "326/326 [==============================] - 49s 150ms/step - loss: 0.0102 - acc: 0.9971 - val_loss: 0.1825 - val_acc: 0.9375\n",
      "Epoch 17/60\n",
      "325/326 [============================>.] - ETA: 0s - loss: 0.0110 - acc: 0.9956\n",
      "Epoch 00017: val_loss improved from 0.18253 to 0.07698, saving model to input/finetune_weights_17_1.00_0.08.hdf5\n",
      "\n",
      "Epoch 00017: saving model to input/finetune_weights_last_only.hdf5\n",
      "326/326 [==============================] - 49s 151ms/step - loss: 0.0110 - acc: 0.9956 - val_loss: 0.0770 - val_acc: 1.0000\n",
      "Epoch 18/60\n",
      "325/326 [============================>.] - ETA: 0s - loss: 0.0089 - acc: 0.9975\n",
      "Epoch 00018: val_loss did not improve from 0.07698\n",
      "\n",
      "Epoch 00018: saving model to input/finetune_weights_last_only.hdf5\n",
      "326/326 [==============================] - 49s 149ms/step - loss: 0.0088 - acc: 0.9975 - val_loss: 0.3189 - val_acc: 0.9375\n",
      "Epoch 19/60\n",
      "325/326 [============================>.] - ETA: 0s - loss: 0.0077 - acc: 0.9981\n",
      "Epoch 00019: val_loss did not improve from 0.07698\n",
      "\n",
      "Epoch 00019: saving model to input/finetune_weights_last_only.hdf5\n",
      "326/326 [==============================] - 48s 148ms/step - loss: 0.0077 - acc: 0.9981 - val_loss: 0.8637 - val_acc: 0.8125\n",
      "Epoch 20/60\n",
      "325/326 [============================>.] - ETA: 0s - loss: 0.0060 - acc: 0.9983\n",
      "Epoch 00020: val_loss did not improve from 0.07698\n",
      "\n",
      "Epoch 00020: saving model to input/finetune_weights_last_only.hdf5\n",
      "326/326 [==============================] - 48s 149ms/step - loss: 0.0062 - acc: 0.9981 - val_loss: 0.2350 - val_acc: 0.8750\n",
      "Epoch 21/60\n",
      "325/326 [============================>.] - ETA: 0s - loss: 0.0055 - acc: 0.9987\n",
      "Epoch 00021: val_loss improved from 0.07698 to 0.07555, saving model to input/finetune_weights_21_0.94_0.08.hdf5\n",
      "\n",
      "Epoch 00021: saving model to input/finetune_weights_last_only.hdf5\n",
      "326/326 [==============================] - 49s 149ms/step - loss: 0.0058 - acc: 0.9985 - val_loss: 0.0756 - val_acc: 0.9375\n",
      "Epoch 22/60\n",
      "325/326 [============================>.] - ETA: 0s - loss: 0.0073 - acc: 0.9979\n",
      "Epoch 00022: val_loss did not improve from 0.07555\n",
      "\n",
      "Epoch 00022: saving model to input/finetune_weights_last_only.hdf5\n",
      "326/326 [==============================] - 49s 149ms/step - loss: 0.0072 - acc: 0.9979 - val_loss: 0.1083 - val_acc: 0.9375\n",
      "Epoch 23/60\n",
      "325/326 [============================>.] - ETA: 0s - loss: 0.0059 - acc: 0.9981\n",
      "Epoch 00023: val_loss improved from 0.07555 to 0.04885, saving model to input/finetune_weights_23_0.94_0.05.hdf5\n",
      "\n",
      "Epoch 00023: saving model to input/finetune_weights_last_only.hdf5\n"
     ]
    },
    {
     "name": "stdout",
     "output_type": "stream",
     "text": [
      "326/326 [==============================] - 50s 152ms/step - loss: 0.0059 - acc: 0.9981 - val_loss: 0.0488 - val_acc: 0.9375\n",
      "Epoch 24/60\n",
      "325/326 [============================>.] - ETA: 0s - loss: 0.0047 - acc: 0.9988\n",
      "Epoch 00024: val_loss did not improve from 0.04885\n",
      "\n",
      "Epoch 00024: saving model to input/finetune_weights_last_only.hdf5\n",
      "326/326 [==============================] - 49s 149ms/step - loss: 0.0047 - acc: 0.9988 - val_loss: 0.0958 - val_acc: 0.9375\n",
      "Epoch 25/60\n",
      "325/326 [============================>.] - ETA: 0s - loss: 0.0055 - acc: 0.9979\n",
      "Epoch 00025: val_loss improved from 0.04885 to 0.02693, saving model to input/finetune_weights_25_1.00_0.03.hdf5\n",
      "\n",
      "Epoch 00025: saving model to input/finetune_weights_last_only.hdf5\n",
      "326/326 [==============================] - 49s 151ms/step - loss: 0.0055 - acc: 0.9979 - val_loss: 0.0269 - val_acc: 1.0000\n",
      "Epoch 26/60\n",
      "325/326 [============================>.] - ETA: 0s - loss: 0.0062 - acc: 0.9975\n",
      "Epoch 00026: val_loss did not improve from 0.02693\n",
      "\n",
      "Epoch 00026: saving model to input/finetune_weights_last_only.hdf5\n",
      "326/326 [==============================] - 48s 149ms/step - loss: 0.0062 - acc: 0.9975 - val_loss: 0.0389 - val_acc: 1.0000\n",
      "Epoch 27/60\n",
      "325/326 [============================>.] - ETA: 0s - loss: 0.0044 - acc: 0.9987\n",
      "Epoch 00027: val_loss did not improve from 0.02693\n",
      "\n",
      "Epoch 00027: saving model to input/finetune_weights_last_only.hdf5\n",
      "326/326 [==============================] - 49s 149ms/step - loss: 0.0043 - acc: 0.9987 - val_loss: 0.1494 - val_acc: 0.8750\n",
      "Epoch 28/60\n",
      "325/326 [============================>.] - ETA: 0s - loss: 0.0078 - acc: 0.9967\n",
      "Epoch 00028: val_loss did not improve from 0.02693\n",
      "\n",
      "Epoch 00028: saving model to input/finetune_weights_last_only.hdf5\n",
      "326/326 [==============================] - 48s 149ms/step - loss: 0.0078 - acc: 0.9967 - val_loss: 0.4814 - val_acc: 0.8750\n",
      "Epoch 29/60\n",
      "325/326 [============================>.] - ETA: 0s - loss: 0.0028 - acc: 0.9994\n",
      "Epoch 00029: val_loss did not improve from 0.02693\n",
      "\n",
      "Epoch 00029: saving model to input/finetune_weights_last_only.hdf5\n",
      "326/326 [==============================] - 48s 149ms/step - loss: 0.0028 - acc: 0.9994 - val_loss: 0.2083 - val_acc: 0.8750\n",
      "Epoch 30/60\n",
      "325/326 [============================>.] - ETA: 0s - loss: 0.0041 - acc: 0.9988\n",
      "Epoch 00030: val_loss improved from 0.02693 to 0.02255, saving model to input/finetune_weights_30_1.00_0.02.hdf5\n",
      "\n",
      "Epoch 00030: saving model to input/finetune_weights_last_only.hdf5\n",
      "326/326 [==============================] - 49s 150ms/step - loss: 0.0041 - acc: 0.9988 - val_loss: 0.0226 - val_acc: 1.0000\n",
      "Epoch 31/60\n",
      "325/326 [============================>.] - ETA: 0s - loss: 0.0075 - acc: 0.9969\n",
      "Epoch 00031: val_loss did not improve from 0.02255\n",
      "\n",
      "Epoch 00031: saving model to input/finetune_weights_last_only.hdf5\n",
      "326/326 [==============================] - 48s 149ms/step - loss: 0.0075 - acc: 0.9969 - val_loss: 0.3038 - val_acc: 0.8750\n",
      "Epoch 32/60\n",
      "325/326 [============================>.] - ETA: 0s - loss: 0.0033 - acc: 0.9992\n",
      "Epoch 00032: val_loss did not improve from 0.02255\n",
      "\n",
      "Epoch 00032: saving model to input/finetune_weights_last_only.hdf5\n",
      "326/326 [==============================] - 48s 148ms/step - loss: 0.0033 - acc: 0.9992 - val_loss: 0.3836 - val_acc: 0.9375\n",
      "Epoch 33/60\n",
      "325/326 [============================>.] - ETA: 0s - loss: 0.0039 - acc: 0.9983\n",
      "Epoch 00033: val_loss improved from 0.02255 to 0.02113, saving model to input/finetune_weights_33_1.00_0.02.hdf5\n",
      "\n",
      "Epoch 00033: saving model to input/finetune_weights_last_only.hdf5\n",
      "326/326 [==============================] - 49s 150ms/step - loss: 0.0039 - acc: 0.9983 - val_loss: 0.0211 - val_acc: 1.0000\n",
      "Epoch 34/60\n",
      "325/326 [============================>.] - ETA: 0s - loss: 0.0048 - acc: 0.9987\n",
      "Epoch 00034: val_loss did not improve from 0.02113\n",
      "\n",
      "Epoch 00034: saving model to input/finetune_weights_last_only.hdf5\n",
      "326/326 [==============================] - 48s 148ms/step - loss: 0.0048 - acc: 0.9987 - val_loss: 0.3615 - val_acc: 0.9375\n",
      "Epoch 35/60\n",
      "325/326 [============================>.] - ETA: 0s - loss: 0.0051 - acc: 0.9985\n",
      "Epoch 00035: val_loss did not improve from 0.02113\n",
      "\n",
      "Epoch 00035: saving model to input/finetune_weights_last_only.hdf5\n",
      "326/326 [==============================] - 48s 149ms/step - loss: 0.0051 - acc: 0.9985 - val_loss: 0.0758 - val_acc: 1.0000\n",
      "Epoch 36/60\n",
      "325/326 [============================>.] - ETA: 0s - loss: 0.0049 - acc: 0.9990\n",
      "Epoch 00036: val_loss did not improve from 0.02113\n",
      "\n",
      "Epoch 00036: saving model to input/finetune_weights_last_only.hdf5\n",
      "326/326 [==============================] - 48s 148ms/step - loss: 0.0049 - acc: 0.9990 - val_loss: 0.0764 - val_acc: 0.9375\n",
      "Epoch 37/60\n",
      "325/326 [============================>.] - ETA: 0s - loss: 0.0028 - acc: 0.9994\n",
      "Epoch 00037: val_loss did not improve from 0.02113\n",
      "\n",
      "Epoch 00037: saving model to input/finetune_weights_last_only.hdf5\n",
      "326/326 [==============================] - 48s 148ms/step - loss: 0.0028 - acc: 0.9994 - val_loss: 0.3056 - val_acc: 0.8750\n",
      "Epoch 38/60\n",
      "325/326 [============================>.] - ETA: 0s - loss: 0.0028 - acc: 0.9992\n",
      "Epoch 00038: val_loss did not improve from 0.02113\n",
      "\n",
      "Epoch 00038: saving model to input/finetune_weights_last_only.hdf5\n",
      "326/326 [==============================] - 48s 148ms/step - loss: 0.0028 - acc: 0.9992 - val_loss: 0.0279 - val_acc: 1.0000\n",
      "Epoch 39/60\n",
      "325/326 [============================>.] - ETA: 0s - loss: 0.0022 - acc: 0.9994\n",
      "Epoch 00039: val_loss did not improve from 0.02113\n",
      "\n",
      "Epoch 00039: saving model to input/finetune_weights_last_only.hdf5\n",
      "326/326 [==============================] - 48s 149ms/step - loss: 0.0022 - acc: 0.9994 - val_loss: 0.0416 - val_acc: 1.0000\n",
      "Epoch 40/60\n",
      "325/326 [============================>.] - ETA: 0s - loss: 0.0032 - acc: 0.9990\n",
      "Epoch 00040: val_loss improved from 0.02113 to 0.00224, saving model to input/finetune_weights_40_1.00_0.00.hdf5\n",
      "\n",
      "Epoch 00040: saving model to input/finetune_weights_last_only.hdf5\n",
      "326/326 [==============================] - 49s 149ms/step - loss: 0.0032 - acc: 0.9990 - val_loss: 0.0022 - val_acc: 1.0000\n",
      "Epoch 41/60\n",
      "325/326 [============================>.] - ETA: 0s - loss: 0.0025 - acc: 0.9988\n",
      "Epoch 00041: val_loss did not improve from 0.00224\n",
      "\n",
      "Epoch 00041: saving model to input/finetune_weights_last_only.hdf5\n",
      "326/326 [==============================] - 49s 150ms/step - loss: 0.0024 - acc: 0.9988 - val_loss: 0.1104 - val_acc: 0.9375\n",
      "Epoch 42/60\n",
      "325/326 [============================>.] - ETA: 0s - loss: 0.0051 - acc: 0.9983\n",
      "Epoch 00042: val_loss did not improve from 0.00224\n",
      "\n",
      "Epoch 00042: saving model to input/finetune_weights_last_only.hdf5\n",
      "326/326 [==============================] - 49s 151ms/step - loss: 0.0051 - acc: 0.9983 - val_loss: 0.0201 - val_acc: 1.0000\n",
      "Epoch 43/60\n",
      "325/326 [============================>.] - ETA: 0s - loss: 0.0021 - acc: 0.9992\n",
      "Epoch 00043: val_loss did not improve from 0.00224\n",
      "\n",
      "Epoch 00043: saving model to input/finetune_weights_last_only.hdf5\n",
      "326/326 [==============================] - 49s 150ms/step - loss: 0.0022 - acc: 0.9992 - val_loss: 0.0101 - val_acc: 1.0000\n",
      "Epoch 44/60\n",
      "325/326 [============================>.] - ETA: 0s - loss: 0.0032 - acc: 0.9992\n",
      "Epoch 00044: val_loss did not improve from 0.00224\n",
      "\n",
      "Epoch 00044: saving model to input/finetune_weights_last_only.hdf5\n",
      "326/326 [==============================] - 49s 150ms/step - loss: 0.0032 - acc: 0.9992 - val_loss: 0.1460 - val_acc: 0.9375\n",
      "Epoch 45/60\n",
      "325/326 [============================>.] - ETA: 0s - loss: 0.0029 - acc: 0.9987\n",
      "Epoch 00045: val_loss did not improve from 0.00224\n",
      "\n",
      "Epoch 00045: saving model to input/finetune_weights_last_only.hdf5\n",
      "326/326 [==============================] - 49s 149ms/step - loss: 0.0029 - acc: 0.9987 - val_loss: 0.0022 - val_acc: 1.0000\n",
      "Epoch 46/60\n",
      "325/326 [============================>.] - ETA: 0s - loss: 0.0033 - acc: 0.9988\n",
      "Epoch 00046: val_loss did not improve from 0.00224\n",
      "\n",
      "Epoch 00046: saving model to input/finetune_weights_last_only.hdf5\n",
      "326/326 [==============================] - 49s 150ms/step - loss: 0.0033 - acc: 0.9988 - val_loss: 0.0455 - val_acc: 0.9375\n",
      "Epoch 47/60\n",
      "325/326 [============================>.] - ETA: 0s - loss: 0.0029 - acc: 0.9992\n",
      "Epoch 00047: val_loss did not improve from 0.00224\n",
      "\n",
      "Epoch 00047: saving model to input/finetune_weights_last_only.hdf5\n",
      "326/326 [==============================] - 49s 150ms/step - loss: 0.0028 - acc: 0.9992 - val_loss: 0.1638 - val_acc: 0.9375\n",
      "Epoch 48/60\n",
      "325/326 [============================>.] - ETA: 0s - loss: 0.0011 - acc: 1.0000\n",
      "Epoch 00048: val_loss did not improve from 0.00224\n",
      "\n",
      "Epoch 00048: saving model to input/finetune_weights_last_only.hdf5\n",
      "326/326 [==============================] - 49s 150ms/step - loss: 0.0011 - acc: 1.0000 - val_loss: 0.1546 - val_acc: 0.9375\n",
      "Epoch 49/60\n",
      "325/326 [============================>.] - ETA: 0s - loss: 0.0034 - acc: 0.9992\n",
      "Epoch 00049: val_loss did not improve from 0.00224\n",
      "\n",
      "Epoch 00049: saving model to input/finetune_weights_last_only.hdf5\n",
      "326/326 [==============================] - 49s 150ms/step - loss: 0.0034 - acc: 0.9992 - val_loss: 0.0126 - val_acc: 1.0000\n",
      "Epoch 50/60\n",
      "325/326 [============================>.] - ETA: 0s - loss: 0.0023 - acc: 0.9994\n",
      "Epoch 00050: val_loss did not improve from 0.00224\n",
      "\n",
      "Epoch 00050: saving model to input/finetune_weights_last_only.hdf5\n",
      "326/326 [==============================] - 49s 149ms/step - loss: 0.0023 - acc: 0.9994 - val_loss: 0.0477 - val_acc: 1.0000\n",
      "Epoch 51/60\n",
      "325/326 [============================>.] - ETA: 0s - loss: 0.0014 - acc: 0.9996\n",
      "Epoch 00051: val_loss did not improve from 0.00224\n",
      "\n",
      "Epoch 00051: saving model to input/finetune_weights_last_only.hdf5\n",
      "326/326 [==============================] - 49s 150ms/step - loss: 0.0014 - acc: 0.9996 - val_loss: 0.5422 - val_acc: 0.9375\n",
      "Epoch 52/60\n",
      "325/326 [============================>.] - ETA: 0s - loss: 0.0024 - acc: 0.9990\n",
      "Epoch 00052: val_loss did not improve from 0.00224\n",
      "\n",
      "Epoch 00052: saving model to input/finetune_weights_last_only.hdf5\n",
      "326/326 [==============================] - 49s 149ms/step - loss: 0.0024 - acc: 0.9990 - val_loss: 0.5093 - val_acc: 0.8750\n",
      "Epoch 53/60\n",
      "325/326 [============================>.] - ETA: 0s - loss: 0.0015 - acc: 0.9996\n",
      "Epoch 00053: val_loss did not improve from 0.00224\n",
      "\n",
      "Epoch 00053: saving model to input/finetune_weights_last_only.hdf5\n",
      "326/326 [==============================] - 49s 150ms/step - loss: 0.0015 - acc: 0.9996 - val_loss: 0.0402 - val_acc: 1.0000\n",
      "Epoch 54/60\n",
      "325/326 [============================>.] - ETA: 0s - loss: 6.4359e-04 - acc: 1.0000\n",
      "Epoch 00054: val_loss did not improve from 0.00224\n",
      "\n",
      "Epoch 00054: saving model to input/finetune_weights_last_only.hdf5\n",
      "326/326 [==============================] - 49s 149ms/step - loss: 6.4169e-04 - acc: 1.0000 - val_loss: 0.0417 - val_acc: 1.0000\n",
      "Epoch 55/60\n",
      "325/326 [============================>.] - ETA: 0s - loss: 5.4284e-04 - acc: 1.0000\n",
      "Epoch 00055: val_loss did not improve from 0.00224\n",
      "\n",
      "Epoch 00055: saving model to input/finetune_weights_last_only.hdf5\n",
      "326/326 [==============================] - 49s 149ms/step - loss: 5.7006e-04 - acc: 1.0000 - val_loss: 0.1300 - val_acc: 0.9375\n",
      "Epoch 56/60\n",
      "325/326 [============================>.] - ETA: 0s - loss: 0.0011 - acc: 0.9996\n",
      "Epoch 00056: val_loss did not improve from 0.00224\n",
      "\n",
      "Epoch 00056: saving model to input/finetune_weights_last_only.hdf5\n",
      "326/326 [==============================] - 48s 148ms/step - loss: 0.0011 - acc: 0.9996 - val_loss: 0.1766 - val_acc: 0.9375\n",
      "Epoch 57/60\n",
      "325/326 [============================>.] - ETA: 0s - loss: 0.0016 - acc: 0.9994\n",
      "Epoch 00057: val_loss did not improve from 0.00224\n",
      "\n",
      "Epoch 00057: saving model to input/finetune_weights_last_only.hdf5\n",
      "326/326 [==============================] - 48s 148ms/step - loss: 0.0016 - acc: 0.9994 - val_loss: 0.0048 - val_acc: 1.0000\n",
      "Epoch 58/60\n",
      "325/326 [============================>.] - ETA: 0s - loss: 0.0029 - acc: 0.9988\n",
      "Epoch 00058: val_loss did not improve from 0.00224\n",
      "\n",
      "Epoch 00058: saving model to input/finetune_weights_last_only.hdf5\n",
      "326/326 [==============================] - 48s 148ms/step - loss: 0.0029 - acc: 0.9988 - val_loss: 0.1541 - val_acc: 0.9375\n",
      "Epoch 59/60\n",
      "325/326 [============================>.] - ETA: 0s - loss: 8.3657e-04 - acc: 1.0000\n",
      "Epoch 00059: val_loss did not improve from 0.00224\n",
      "\n",
      "Epoch 00059: saving model to input/finetune_weights_last_only.hdf5\n",
      "326/326 [==============================] - 48s 149ms/step - loss: 8.3577e-04 - acc: 1.0000 - val_loss: 0.1734 - val_acc: 0.8125\n",
      "Epoch 60/60\n",
      "325/326 [============================>.] - ETA: 0s - loss: 0.0037 - acc: 0.9983\n",
      "Epoch 00060: val_loss improved from 0.00224 to 0.00010, saving model to input/finetune_weights_60_1.00_0.00.hdf5\n",
      "\n",
      "Epoch 00060: saving model to input/finetune_weights_last_only.hdf5\n",
      "326/326 [==============================] - 49s 150ms/step - loss: 0.0037 - acc: 0.9983 - val_loss: 9.5270e-05 - val_acc: 1.0000\n"
     ]
    },
    {
     "data": {
      "text/plain": [
       "<tensorflow.python.keras.callbacks.History at 0x2669bbe2668>"
      ]
     },
     "execution_count": 69,
     "metadata": {},
     "output_type": "execute_result"
    }
   ],
   "source": [
    "model.fit(train_dataset, steps_per_epoch = train_steps,\n",
    "                   epochs = epochs,\n",
    "                   validation_data = valid_dataset,\n",
    "                   validation_steps = val_steps, #class_weight='auto',\n",
    "                   callbacks=[chkpt, chkpt2])"
   ]
  },
  {
   "cell_type": "code",
   "execution_count": 70,
   "metadata": {
    "colab": {},
    "colab_type": "code",
    "id": "SakZgKC743FM"
   },
   "outputs": [],
   "source": [
    "# Preparing test data\n",
    "\n",
    "normal_cases = glob(path_test+\"/NORMAL/*.jpeg\")\n",
    "pneumonia_cases = glob(path_test+\"/PNEUMONIA/*.jpeg\")"
   ]
  },
  {
   "cell_type": "code",
   "execution_count": 71,
   "metadata": {
    "colab": {},
    "colab_type": "code",
    "id": "8tKESE1w6ROA"
   },
   "outputs": [],
   "source": [
    "from tensorflow.keras.utils import to_categorical"
   ]
  },
  {
   "cell_type": "code",
   "execution_count": 72,
   "metadata": {
    "colab": {},
    "colab_type": "code",
    "id": "RfkQ8qJn4hyW"
   },
   "outputs": [
    {
     "name": "stdout",
     "output_type": "stream",
     "text": [
      "Total number of test examples:  (624, 224, 224, 3)\n",
      "Total number of labels: (624, 2)\n"
     ]
    }
   ],
   "source": [
    "test_data = []\n",
    "test_labels = []\n",
    "\n",
    "for img in normal_cases:\n",
    "    img = cv2.imread(str(img))\n",
    "    img = cv2.resize(img, (224,224))\n",
    "    if img.shape[2] ==1:\n",
    "        img = np.dstack([img, img, img])\n",
    "    else:\n",
    "        img = cv2.cvtColor(img, cv2.COLOR_BGR2RGB)\n",
    "    img = img.astype(np.float32)/255.\n",
    "    label = to_categorical(0, num_classes=2)\n",
    "    test_data.append(img)\n",
    "    test_labels.append(label)\n",
    "                      \n",
    "for img in pneumonia_cases:\n",
    "    img = cv2.imread(str(img))\n",
    "    img = cv2.resize(img, (224,224))\n",
    "    if img.shape[2] ==1:\n",
    "        img = np.dstack([img, img, img])\n",
    "    else:\n",
    "        img = cv2.cvtColor(img, cv2.COLOR_BGR2RGB)\n",
    "    img = img.astype(np.float32)/255.\n",
    "    label = to_categorical(1, num_classes=2)\n",
    "    test_data.append(img)\n",
    "    test_labels.append(label)\n",
    "    \n",
    "\n",
    "test_data = np.array(test_data)\n",
    "test_labels = np.array(test_labels)\n",
    "\n",
    "print(\"Total number of test examples: \", test_data.shape)\n",
    "print(\"Total number of labels:\", test_labels.shape)"
   ]
  },
  {
   "cell_type": "code",
   "execution_count": 83,
   "metadata": {
    "colab": {},
    "colab_type": "code",
    "id": "rV6Xla7GY5iZ"
   },
   "outputs": [],
   "source": [
    "model.load_weights(\"input/finetune_weights_60_1.00_0.00.hdf5\")"
   ]
  },
  {
   "cell_type": "code",
   "execution_count": 84,
   "metadata": {
    "colab": {},
    "colab_type": "code",
    "id": "QsvSh71o5fyw"
   },
   "outputs": [
    {
     "name": "stdout",
     "output_type": "stream",
     "text": [
      "624/624 [==============================] - 1s 2ms/step\n",
      "Loss on test set:  1.177397702171267\n",
      "Accuracy on test set:  0.8477564102564102\n"
     ]
    }
   ],
   "source": [
    "test_loss, test_score = model.evaluate(test_data, test_labels, batch_size=16)\n",
    "print(\"Loss on test set: \", test_loss)\n",
    "print(\"Accuracy on test set: \", test_score)"
   ]
  },
  {
   "cell_type": "code",
   "execution_count": 85,
   "metadata": {
    "colab": {},
    "colab_type": "code",
    "id": "p9qK3GIw4bIC"
   },
   "outputs": [
    {
     "name": "stdout",
     "output_type": "stream",
     "text": [
      "(624,)\n",
      "(624,)\n"
     ]
    }
   ],
   "source": [
    "# Get predictions\n",
    "preds = model.predict(test_data, batch_size=16)\n",
    "preds = np.argmax(preds, axis=-1)\n",
    "\n",
    "# Original labels\n",
    "orig_test_labels = np.argmax(test_labels, axis=-1)\n",
    "\n",
    "print(orig_test_labels.shape)\n",
    "print(preds.shape)"
   ]
  },
  {
   "cell_type": "code",
   "execution_count": 86,
   "metadata": {
    "colab": {},
    "colab_type": "code",
    "id": "3d4UJ5Mt7Cgs"
   },
   "outputs": [],
   "source": [
    "from sklearn.metrics import confusion_matrix\n",
    "from mlxtend.plotting import plot_confusion_matrix"
   ]
  },
  {
   "cell_type": "code",
   "execution_count": 87,
   "metadata": {
    "colab": {},
    "colab_type": "code",
    "id": "HdrOqxH35hQy"
   },
   "outputs": [],
   "source": [
    "# Get the confusion matrix\n",
    "cm  = confusion_matrix(orig_test_labels, preds)"
   ]
  },
  {
   "cell_type": "code",
   "execution_count": 88,
   "metadata": {
    "colab": {},
    "colab_type": "code",
    "id": "jeMUNwRw7-vl"
   },
   "outputs": [
    {
     "data": {
      "text/plain": [
       "array([[145,  89],\n",
       "       [  6, 384]], dtype=int64)"
      ]
     },
     "execution_count": 88,
     "metadata": {},
     "output_type": "execute_result"
    }
   ],
   "source": [
    "cm"
   ]
  },
  {
   "cell_type": "code",
   "execution_count": 89,
   "metadata": {
    "colab": {},
    "colab_type": "code",
    "id": "0MMzh90m71FY"
   },
   "outputs": [
    {
     "data": {
      "text/plain": [
       "<Figure size 432x288 with 0 Axes>"
      ]
     },
     "metadata": {},
     "output_type": "display_data"
    },
    {
     "data": {
      "image/png": "[encoded data removed]",
      "text/plain": [
       "<Figure size 864x576 with 1 Axes>"
      ]
     },
     "metadata": {
      "needs_background": "light"
     },
     "output_type": "display_data"
    }
   ],
   "source": [
    "plt.figure()\n",
    "plot_confusion_matrix(cm,figsize=(12,8), hide_ticks=True, cmap=plt.cm.Blues)\n",
    "plt.xticks(range(2), ['Normal', 'Pneumonia'], fontsize=16)\n",
    "plt.yticks(range(2), ['Normal', 'Pneumonia'], fontsize=16)\n",
    "plt.show()"
   ]
  },
  {
   "cell_type": "code",
   "execution_count": 90,
   "metadata": {
    "colab": {},
    "colab_type": "code",
    "id": "jYro9C-P5uBQ"
   },
   "outputs": [
    {
     "name": "stdout",
     "output_type": "stream",
     "text": [
      "Recall of the model is 0.98\n",
      "Precision of the model is 0.81\n"
     ]
    }
   ],
   "source": [
    "# Calculate Precision and Recall\n",
    "tn, fp, fn, tp = cm.ravel()\n",
    "\n",
    "precision = tp/(tp+fp)\n",
    "recall = tp/(tp+fn)\n",
    "\n",
    "print(\"Recall of the model is {:.2f}\".format(recall))\n",
    "print(\"Precision of the model is {:.2f}\".format(precision))"
   ]
  },
  {
   "cell_type": "markdown",
   "metadata": {},
   "source": [
    "## History log of fine-tuning"
   ]
  },
  {
   "cell_type": "code",
   "execution_count": 91,
   "metadata": {
    "colab": {},
    "colab_type": "code",
    "id": "H_hRW0oNxY6u"
   },
   "outputs": [],
   "source": [
    "# Epoch 1/60\n",
    "# 325/326 [============================>.] - ETA: 0s - loss: 0.1308 - acc: 0.9477\n",
    "# Epoch 00001: val_loss improved from inf to 3.25306, saving model to input/finetune_weights_01_0.50_3.25.hdf5\n",
    "\n",
    "# Epoch 00001: saving model to input/finetune_weights_last_only.hdf5\n",
    "# 326/326 [==============================] - 59s 180ms/step - loss: 0.1308 - acc: 0.9477 - val_loss: 3.2531 - val_acc: 0.5000\n",
    "# Epoch 2/60\n",
    "# 325/326 [============================>.] - ETA: 0s - loss: 0.0953 - acc: 0.9646\n",
    "# Epoch 00002: val_loss improved from 3.25306 to 1.42256, saving model to input/finetune_weights_02_0.56_1.42.hdf5\n",
    "\n",
    "# Epoch 00002: saving model to input/finetune_weights_last_only.hdf5\n",
    "# 326/326 [==============================] - 49s 151ms/step - loss: 0.0952 - acc: 0.9647 - val_loss: 1.4226 - val_acc: 0.5625\n",
    "# Epoch 3/60\n",
    "# 325/326 [============================>.] - ETA: 0s - loss: 0.0802 - acc: 0.9685\n",
    "# Epoch 00003: val_loss improved from 1.42256 to 0.57769, saving model to input/finetune_weights_03_0.75_0.58.hdf5\n",
    "\n",
    "# Epoch 00003: saving model to input/finetune_weights_last_only.hdf5\n",
    "# 326/326 [==============================] - 50s 153ms/step - loss: 0.0805 - acc: 0.9682 - val_loss: 0.5777 - val_acc: 0.7500\n",
    "# Epoch 4/60\n",
    "# 325/326 [============================>.] - ETA: 0s - loss: 0.0628 - acc: 0.9781\n",
    "# Epoch 00004: val_loss improved from 0.57769 to 0.41102, saving model to input/finetune_weights_04_0.81_0.41.hdf5\n",
    "\n",
    "# Epoch 00004: saving model to input/finetune_weights_last_only.hdf5\n",
    "# 326/326 [==============================] - 49s 152ms/step - loss: 0.0635 - acc: 0.9780 - val_loss: 0.4110 - val_acc: 0.8125\n",
    "# Epoch 5/60\n",
    "# 325/326 [============================>.] - ETA: 0s - loss: 0.0545 - acc: 0.9817\n",
    "# Epoch 00005: val_loss improved from 0.41102 to 0.38749, saving model to input/finetune_weights_05_0.88_0.39.hdf5\n",
    "\n",
    "# Epoch 00005: saving model to input/finetune_weights_last_only.hdf5\n",
    "# 326/326 [==============================] - 49s 150ms/step - loss: 0.0546 - acc: 0.9816 - val_loss: 0.3875 - val_acc: 0.8750\n",
    "# Epoch 6/60\n",
    "# 325/326 [============================>.] - ETA: 0s - loss: 0.0431 - acc: 0.9844\n",
    "# Epoch 00006: val_loss did not improve from 0.38749\n",
    "\n",
    "# Epoch 00006: saving model to input/finetune_weights_last_only.hdf5\n",
    "# 326/326 [==============================] - 49s 150ms/step - loss: 0.0431 - acc: 0.9845 - val_loss: 0.6407 - val_acc: 0.8125\n",
    "# Epoch 7/60\n",
    "# 325/326 [============================>.] - ETA: 0s - loss: 0.0439 - acc: 0.9848\n",
    "# Epoch 00007: val_loss improved from 0.38749 to 0.35363, saving model to input/finetune_weights_07_0.88_0.35.hdf5\n",
    "\n",
    "# Epoch 00007: saving model to input/finetune_weights_last_only.hdf5\n",
    "# 326/326 [==============================] - 49s 150ms/step - loss: 0.0445 - acc: 0.9845 - val_loss: 0.3536 - val_acc: 0.8750\n",
    "# Epoch 8/60\n",
    "# 325/326 [============================>.] - ETA: 0s - loss: 0.0334 - acc: 0.9875\n",
    "# Epoch 00008: val_loss did not improve from 0.35363\n",
    "\n",
    "# Epoch 00008: saving model to input/finetune_weights_last_only.hdf5\n",
    "# 326/326 [==============================] - 48s 148ms/step - loss: 0.0334 - acc: 0.9875 - val_loss: 0.3759 - val_acc: 0.8750\n",
    "# Epoch 9/60\n",
    "# 325/326 [============================>.] - ETA: 0s - loss: 0.0264 - acc: 0.9910\n",
    "# Epoch 00009: val_loss improved from 0.35363 to 0.20375, saving model to input/finetune_weights_09_0.88_0.20.hdf5\n",
    "\n",
    "# Epoch 00009: saving model to input/finetune_weights_last_only.hdf5\n",
    "# 326/326 [==============================] - 49s 150ms/step - loss: 0.0264 - acc: 0.9910 - val_loss: 0.2037 - val_acc: 0.8750\n",
    "# Epoch 10/60\n",
    "# 325/326 [============================>.] - ETA: 0s - loss: 0.0218 - acc: 0.9925\n",
    "# Epoch 00010: val_loss did not improve from 0.20375\n",
    "\n",
    "# Epoch 00010: saving model to input/finetune_weights_last_only.hdf5\n",
    "# 326/326 [==============================] - 48s 148ms/step - loss: 0.0218 - acc: 0.9925 - val_loss: 0.3809 - val_acc: 0.8750\n",
    "# Epoch 11/60\n",
    "# 325/326 [============================>.] - ETA: 0s - loss: 0.0157 - acc: 0.9954\n",
    "# Epoch 00011: val_loss did not improve from 0.20375\n",
    "\n",
    "# Epoch 00011: saving model to input/finetune_weights_last_only.hdf5\n",
    "# 326/326 [==============================] - 48s 148ms/step - loss: 0.0159 - acc: 0.9950 - val_loss: 0.3069 - val_acc: 0.8750\n",
    "# Epoch 12/60\n",
    "# 325/326 [============================>.] - ETA: 0s - loss: 0.0207 - acc: 0.9927\n",
    "# Epoch 00012: val_loss did not improve from 0.20375\n",
    "\n",
    "# Epoch 00012: saving model to input/finetune_weights_last_only.hdf5\n",
    "# 326/326 [==============================] - 48s 148ms/step - loss: 0.0206 - acc: 0.9927 - val_loss: 0.4948 - val_acc: 0.8750\n",
    "# Epoch 13/60\n",
    "# 325/326 [============================>.] - ETA: 0s - loss: 0.0138 - acc: 0.9960\n",
    "# Epoch 00013: val_loss did not improve from 0.20375\n",
    "\n",
    "# Epoch 00013: saving model to input/finetune_weights_last_only.hdf5\n",
    "# 326/326 [==============================] - 49s 149ms/step - loss: 0.0138 - acc: 0.9960 - val_loss: 0.4750 - val_acc: 0.8750\n",
    "# Epoch 14/60\n",
    "# 325/326 [============================>.] - ETA: 0s - loss: 0.0160 - acc: 0.9942\n",
    "# Epoch 00014: val_loss did not improve from 0.20375\n",
    "\n",
    "# Epoch 00014: saving model to input/finetune_weights_last_only.hdf5\n",
    "# 326/326 [==============================] - 48s 148ms/step - loss: 0.0160 - acc: 0.9942 - val_loss: 0.3905 - val_acc: 0.8750\n",
    "# Epoch 15/60\n",
    "# 325/326 [============================>.] - ETA: 0s - loss: 0.0088 - acc: 0.9975\n",
    "# Epoch 00015: val_loss did not improve from 0.20375\n",
    "\n",
    "# Epoch 00015: saving model to input/finetune_weights_last_only.hdf5\n",
    "# 326/326 [==============================] - 49s 150ms/step - loss: 0.0088 - acc: 0.9975 - val_loss: 0.8223 - val_acc: 0.8125\n",
    "# Epoch 16/60\n",
    "# 325/326 [============================>.] - ETA: 0s - loss: 0.0102 - acc: 0.9971\n",
    "# Epoch 00016: val_loss improved from 0.20375 to 0.18253, saving model to input/finetune_weights_16_0.94_0.18.hdf5\n",
    "\n",
    "# Epoch 00016: saving model to input/finetune_weights_last_only.hdf5\n",
    "# 326/326 [==============================] - 49s 150ms/step - loss: 0.0102 - acc: 0.9971 - val_loss: 0.1825 - val_acc: 0.9375\n",
    "# Epoch 17/60\n",
    "# 325/326 [============================>.] - ETA: 0s - loss: 0.0110 - acc: 0.9956\n",
    "# Epoch 00017: val_loss improved from 0.18253 to 0.07698, saving model to input/finetune_weights_17_1.00_0.08.hdf5\n",
    "\n",
    "# Epoch 00017: saving model to input/finetune_weights_last_only.hdf5\n",
    "# 326/326 [==============================] - 49s 151ms/step - loss: 0.0110 - acc: 0.9956 - val_loss: 0.0770 - val_acc: 1.0000\n",
    "# Epoch 18/60\n",
    "# 325/326 [============================>.] - ETA: 0s - loss: 0.0089 - acc: 0.9975\n",
    "# Epoch 00018: val_loss did not improve from 0.07698\n",
    "\n",
    "# Epoch 00018: saving model to input/finetune_weights_last_only.hdf5\n",
    "# 326/326 [==============================] - 49s 149ms/step - loss: 0.0088 - acc: 0.9975 - val_loss: 0.3189 - val_acc: 0.9375\n",
    "# Epoch 19/60\n",
    "# 325/326 [============================>.] - ETA: 0s - loss: 0.0077 - acc: 0.9981\n",
    "# Epoch 00019: val_loss did not improve from 0.07698\n",
    "\n",
    "# Epoch 00019: saving model to input/finetune_weights_last_only.hdf5\n",
    "# 326/326 [==============================] - 48s 148ms/step - loss: 0.0077 - acc: 0.9981 - val_loss: 0.8637 - val_acc: 0.8125\n",
    "# Epoch 20/60\n",
    "# 325/326 [============================>.] - ETA: 0s - loss: 0.0060 - acc: 0.9983\n",
    "# Epoch 00020: val_loss did not improve from 0.07698\n",
    "\n",
    "# Epoch 00020: saving model to input/finetune_weights_last_only.hdf5\n",
    "# 326/326 [==============================] - 48s 149ms/step - loss: 0.0062 - acc: 0.9981 - val_loss: 0.2350 - val_acc: 0.8750\n",
    "# Epoch 21/60\n",
    "# 325/326 [============================>.] - ETA: 0s - loss: 0.0055 - acc: 0.9987\n",
    "# Epoch 00021: val_loss improved from 0.07698 to 0.07555, saving model to input/finetune_weights_21_0.94_0.08.hdf5\n",
    "\n",
    "# Epoch 00021: saving model to input/finetune_weights_last_only.hdf5\n",
    "# 326/326 [==============================] - 49s 149ms/step - loss: 0.0058 - acc: 0.9985 - val_loss: 0.0756 - val_acc: 0.9375\n",
    "# Epoch 22/60\n",
    "# 325/326 [============================>.] - ETA: 0s - loss: 0.0073 - acc: 0.9979\n",
    "# Epoch 00022: val_loss did not improve from 0.07555\n",
    "\n",
    "# Epoch 00022: saving model to input/finetune_weights_last_only.hdf5\n",
    "# 326/326 [==============================] - 49s 149ms/step - loss: 0.0072 - acc: 0.9979 - val_loss: 0.1083 - val_acc: 0.9375\n",
    "# Epoch 23/60\n",
    "# 325/326 [============================>.] - ETA: 0s - loss: 0.0059 - acc: 0.9981\n",
    "# Epoch 00023: val_loss improved from 0.07555 to 0.04885, saving model to input/finetune_weights_23_0.94_0.05.hdf5\n",
    "\n",
    "# Epoch 00023: saving model to input/finetune_weights_last_only.hdf5\n",
    "# 326/326 [==============================] - 50s 152ms/step - loss: 0.0059 - acc: 0.9981 - val_loss: 0.0488 - val_acc: 0.9375\n",
    "# Epoch 24/60\n",
    "# 325/326 [============================>.] - ETA: 0s - loss: 0.0047 - acc: 0.9988\n",
    "# Epoch 00024: val_loss did not improve from 0.04885\n",
    "\n",
    "# Epoch 00024: saving model to input/finetune_weights_last_only.hdf5\n",
    "# 326/326 [==============================] - 49s 149ms/step - loss: 0.0047 - acc: 0.9988 - val_loss: 0.0958 - val_acc: 0.9375\n",
    "# Epoch 25/60\n",
    "# 325/326 [============================>.] - ETA: 0s - loss: 0.0055 - acc: 0.9979\n",
    "# Epoch 00025: val_loss improved from 0.04885 to 0.02693, saving model to input/finetune_weights_25_1.00_0.03.hdf5\n",
    "\n",
    "# Epoch 00025: saving model to input/finetune_weights_last_only.hdf5\n",
    "# 326/326 [==============================] - 49s 151ms/step - loss: 0.0055 - acc: 0.9979 - val_loss: 0.0269 - val_acc: 1.0000\n",
    "# Epoch 26/60\n",
    "# 325/326 [============================>.] - ETA: 0s - loss: 0.0062 - acc: 0.9975\n",
    "# Epoch 00026: val_loss did not improve from 0.02693\n",
    "\n",
    "# Epoch 00026: saving model to input/finetune_weights_last_only.hdf5\n",
    "# 326/326 [==============================] - 48s 149ms/step - loss: 0.0062 - acc: 0.9975 - val_loss: 0.0389 - val_acc: 1.0000\n",
    "# Epoch 27/60\n",
    "# 325/326 [============================>.] - ETA: 0s - loss: 0.0044 - acc: 0.9987\n",
    "# Epoch 00027: val_loss did not improve from 0.02693\n",
    "\n",
    "# Epoch 00027: saving model to input/finetune_weights_last_only.hdf5\n",
    "# 326/326 [==============================] - 49s 149ms/step - loss: 0.0043 - acc: 0.9987 - val_loss: 0.1494 - val_acc: 0.8750\n",
    "# Epoch 28/60\n",
    "# 325/326 [============================>.] - ETA: 0s - loss: 0.0078 - acc: 0.9967\n",
    "# Epoch 00028: val_loss did not improve from 0.02693\n",
    "\n",
    "# Epoch 00028: saving model to input/finetune_weights_last_only.hdf5\n",
    "# 326/326 [==============================] - 48s 149ms/step - loss: 0.0078 - acc: 0.9967 - val_loss: 0.4814 - val_acc: 0.8750\n",
    "# Epoch 29/60\n",
    "# 325/326 [============================>.] - ETA: 0s - loss: 0.0028 - acc: 0.9994\n",
    "# Epoch 00029: val_loss did not improve from 0.02693\n",
    "\n",
    "# Epoch 00029: saving model to input/finetune_weights_last_only.hdf5\n",
    "# 326/326 [==============================] - 48s 149ms/step - loss: 0.0028 - acc: 0.9994 - val_loss: 0.2083 - val_acc: 0.8750\n",
    "# Epoch 30/60\n",
    "# 325/326 [============================>.] - ETA: 0s - loss: 0.0041 - acc: 0.9988\n",
    "# Epoch 00030: val_loss improved from 0.02693 to 0.02255, saving model to input/finetune_weights_30_1.00_0.02.hdf5\n",
    "\n",
    "# Epoch 00030: saving model to input/finetune_weights_last_only.hdf5\n",
    "# 326/326 [==============================] - 49s 150ms/step - loss: 0.0041 - acc: 0.9988 - val_loss: 0.0226 - val_acc: 1.0000\n",
    "# Epoch 31/60\n",
    "# 325/326 [============================>.] - ETA: 0s - loss: 0.0075 - acc: 0.9969\n",
    "# Epoch 00031: val_loss did not improve from 0.02255\n",
    "\n",
    "# Epoch 00031: saving model to input/finetune_weights_last_only.hdf5\n",
    "# 326/326 [==============================] - 48s 149ms/step - loss: 0.0075 - acc: 0.9969 - val_loss: 0.3038 - val_acc: 0.8750\n",
    "# Epoch 32/60\n",
    "# 325/326 [============================>.] - ETA: 0s - loss: 0.0033 - acc: 0.9992\n",
    "# Epoch 00032: val_loss did not improve from 0.02255\n",
    "\n",
    "# Epoch 00032: saving model to input/finetune_weights_last_only.hdf5\n",
    "# 326/326 [==============================] - 48s 148ms/step - loss: 0.0033 - acc: 0.9992 - val_loss: 0.3836 - val_acc: 0.9375\n",
    "# Epoch 33/60\n",
    "# 325/326 [============================>.] - ETA: 0s - loss: 0.0039 - acc: 0.9983\n",
    "# Epoch 00033: val_loss improved from 0.02255 to 0.02113, saving model to input/finetune_weights_33_1.00_0.02.hdf5\n",
    "\n",
    "# Epoch 00033: saving model to input/finetune_weights_last_only.hdf5\n",
    "# 326/326 [==============================] - 49s 150ms/step - loss: 0.0039 - acc: 0.9983 - val_loss: 0.0211 - val_acc: 1.0000\n",
    "# Epoch 34/60\n",
    "# 325/326 [============================>.] - ETA: 0s - loss: 0.0048 - acc: 0.9987\n",
    "# Epoch 00034: val_loss did not improve from 0.02113\n",
    "\n",
    "# Epoch 00034: saving model to input/finetune_weights_last_only.hdf5\n",
    "# 326/326 [==============================] - 48s 148ms/step - loss: 0.0048 - acc: 0.9987 - val_loss: 0.3615 - val_acc: 0.9375\n",
    "# Epoch 35/60\n",
    "# 325/326 [============================>.] - ETA: 0s - loss: 0.0051 - acc: 0.9985\n",
    "# Epoch 00035: val_loss did not improve from 0.02113\n",
    "\n",
    "# Epoch 00035: saving model to input/finetune_weights_last_only.hdf5\n",
    "# 326/326 [==============================] - 48s 149ms/step - loss: 0.0051 - acc: 0.9985 - val_loss: 0.0758 - val_acc: 1.0000\n",
    "# Epoch 36/60\n",
    "# 325/326 [============================>.] - ETA: 0s - loss: 0.0049 - acc: 0.9990\n",
    "# Epoch 00036: val_loss did not improve from 0.02113\n",
    "\n",
    "# Epoch 00036: saving model to input/finetune_weights_last_only.hdf5\n",
    "# 326/326 [==============================] - 48s 148ms/step - loss: 0.0049 - acc: 0.9990 - val_loss: 0.0764 - val_acc: 0.9375\n",
    "# Epoch 37/60\n",
    "# 325/326 [============================>.] - ETA: 0s - loss: 0.0028 - acc: 0.9994\n",
    "# Epoch 00037: val_loss did not improve from 0.02113\n",
    "\n",
    "# Epoch 00037: saving model to input/finetune_weights_last_only.hdf5\n",
    "# 326/326 [==============================] - 48s 148ms/step - loss: 0.0028 - acc: 0.9994 - val_loss: 0.3056 - val_acc: 0.8750\n",
    "# Epoch 38/60\n",
    "# 325/326 [============================>.] - ETA: 0s - loss: 0.0028 - acc: 0.9992\n",
    "# Epoch 00038: val_loss did not improve from 0.02113\n",
    "\n",
    "# Epoch 00038: saving model to input/finetune_weights_last_only.hdf5\n",
    "# 326/326 [==============================] - 48s 148ms/step - loss: 0.0028 - acc: 0.9992 - val_loss: 0.0279 - val_acc: 1.0000\n",
    "# Epoch 39/60\n",
    "# 325/326 [============================>.] - ETA: 0s - loss: 0.0022 - acc: 0.9994\n",
    "# Epoch 00039: val_loss did not improve from 0.02113\n",
    "\n",
    "# Epoch 00039: saving model to input/finetune_weights_last_only.hdf5\n",
    "# 326/326 [==============================] - 48s 149ms/step - loss: 0.0022 - acc: 0.9994 - val_loss: 0.0416 - val_acc: 1.0000\n",
    "# Epoch 40/60\n",
    "# 325/326 [============================>.] - ETA: 0s - loss: 0.0032 - acc: 0.9990\n",
    "# Epoch 00040: val_loss improved from 0.02113 to 0.00224, saving model to input/finetune_weights_40_1.00_0.00.hdf5\n",
    "\n",
    "# Epoch 00040: saving model to input/finetune_weights_last_only.hdf5\n",
    "# 326/326 [==============================] - 49s 149ms/step - loss: 0.0032 - acc: 0.9990 - val_loss: 0.0022 - val_acc: 1.0000\n",
    "# Epoch 41/60\n",
    "# 325/326 [============================>.] - ETA: 0s - loss: 0.0025 - acc: 0.9988\n",
    "# Epoch 00041: val_loss did not improve from 0.00224\n",
    "\n",
    "# Epoch 00041: saving model to input/finetune_weights_last_only.hdf5\n",
    "# 326/326 [==============================] - 49s 150ms/step - loss: 0.0024 - acc: 0.9988 - val_loss: 0.1104 - val_acc: 0.9375\n",
    "# Epoch 42/60\n",
    "# 325/326 [============================>.] - ETA: 0s - loss: 0.0051 - acc: 0.9983\n",
    "# Epoch 00042: val_loss did not improve from 0.00224\n",
    "\n",
    "# Epoch 00042: saving model to input/finetune_weights_last_only.hdf5\n",
    "# 326/326 [==============================] - 49s 151ms/step - loss: 0.0051 - acc: 0.9983 - val_loss: 0.0201 - val_acc: 1.0000\n",
    "# Epoch 43/60\n",
    "# 325/326 [============================>.] - ETA: 0s - loss: 0.0021 - acc: 0.9992\n",
    "# Epoch 00043: val_loss did not improve from 0.00224\n",
    "\n",
    "# Epoch 00043: saving model to input/finetune_weights_last_only.hdf5\n",
    "# 326/326 [==============================] - 49s 150ms/step - loss: 0.0022 - acc: 0.9992 - val_loss: 0.0101 - val_acc: 1.0000\n",
    "# Epoch 44/60\n",
    "# 325/326 [============================>.] - ETA: 0s - loss: 0.0032 - acc: 0.9992\n",
    "# Epoch 00044: val_loss did not improve from 0.00224\n",
    "\n",
    "# Epoch 00044: saving model to input/finetune_weights_last_only.hdf5\n",
    "# 326/326 [==============================] - 49s 150ms/step - loss: 0.0032 - acc: 0.9992 - val_loss: 0.1460 - val_acc: 0.9375\n",
    "# Epoch 45/60\n",
    "# 325/326 [============================>.] - ETA: 0s - loss: 0.0029 - acc: 0.9987\n",
    "# Epoch 00045: val_loss did not improve from 0.00224\n",
    "\n",
    "# Epoch 00045: saving model to input/finetune_weights_last_only.hdf5\n",
    "# 326/326 [==============================] - 49s 149ms/step - loss: 0.0029 - acc: 0.9987 - val_loss: 0.0022 - val_acc: 1.0000\n",
    "# Epoch 46/60\n",
    "# 325/326 [============================>.] - ETA: 0s - loss: 0.0033 - acc: 0.9988\n",
    "# Epoch 00046: val_loss did not improve from 0.00224\n",
    "\n",
    "# Epoch 00046: saving model to input/finetune_weights_last_only.hdf5\n",
    "# 326/326 [==============================] - 49s 150ms/step - loss: 0.0033 - acc: 0.9988 - val_loss: 0.0455 - val_acc: 0.9375\n",
    "# Epoch 47/60\n",
    "# 325/326 [============================>.] - ETA: 0s - loss: 0.0029 - acc: 0.9992\n",
    "# Epoch 00047: val_loss did not improve from 0.00224\n",
    "\n",
    "# Epoch 00047: saving model to input/finetune_weights_last_only.hdf5\n",
    "# 326/326 [==============================] - 49s 150ms/step - loss: 0.0028 - acc: 0.9992 - val_loss: 0.1638 - val_acc: 0.9375\n",
    "# Epoch 48/60\n",
    "# 325/326 [============================>.] - ETA: 0s - loss: 0.0011 - acc: 1.0000\n",
    "# Epoch 00048: val_loss did not improve from 0.00224\n",
    "\n",
    "# Epoch 00048: saving model to input/finetune_weights_last_only.hdf5\n",
    "# 326/326 [==============================] - 49s 150ms/step - loss: 0.0011 - acc: 1.0000 - val_loss: 0.1546 - val_acc: 0.9375\n",
    "# Epoch 49/60\n",
    "# 325/326 [============================>.] - ETA: 0s - loss: 0.0034 - acc: 0.9992\n",
    "# Epoch 00049: val_loss did not improve from 0.00224\n",
    "\n",
    "# Epoch 00049: saving model to input/finetune_weights_last_only.hdf5\n",
    "# 326/326 [==============================] - 49s 150ms/step - loss: 0.0034 - acc: 0.9992 - val_loss: 0.0126 - val_acc: 1.0000\n",
    "# Epoch 50/60\n",
    "# 325/326 [============================>.] - ETA: 0s - loss: 0.0023 - acc: 0.9994\n",
    "# Epoch 00050: val_loss did not improve from 0.00224\n",
    "\n",
    "# Epoch 00050: saving model to input/finetune_weights_last_only.hdf5\n",
    "# 326/326 [==============================] - 49s 149ms/step - loss: 0.0023 - acc: 0.9994 - val_loss: 0.0477 - val_acc: 1.0000\n",
    "# Epoch 51/60\n",
    "# 325/326 [============================>.] - ETA: 0s - loss: 0.0014 - acc: 0.9996\n",
    "# Epoch 00051: val_loss did not improve from 0.00224\n",
    "\n",
    "# Epoch 00051: saving model to input/finetune_weights_last_only.hdf5\n",
    "# 326/326 [==============================] - 49s 150ms/step - loss: 0.0014 - acc: 0.9996 - val_loss: 0.5422 - val_acc: 0.9375\n",
    "# Epoch 52/60\n",
    "# 325/326 [============================>.] - ETA: 0s - loss: 0.0024 - acc: 0.9990\n",
    "# Epoch 00052: val_loss did not improve from 0.00224\n",
    "\n",
    "# Epoch 00052: saving model to input/finetune_weights_last_only.hdf5\n",
    "# 326/326 [==============================] - 49s 149ms/step - loss: 0.0024 - acc: 0.9990 - val_loss: 0.5093 - val_acc: 0.8750\n",
    "# Epoch 53/60\n",
    "# 325/326 [============================>.] - ETA: 0s - loss: 0.0015 - acc: 0.9996\n",
    "# Epoch 00053: val_loss did not improve from 0.00224\n",
    "\n",
    "# Epoch 00053: saving model to input/finetune_weights_last_only.hdf5\n",
    "# 326/326 [==============================] - 49s 150ms/step - loss: 0.0015 - acc: 0.9996 - val_loss: 0.0402 - val_acc: 1.0000\n",
    "# Epoch 54/60\n",
    "# 325/326 [============================>.] - ETA: 0s - loss: 6.4359e-04 - acc: 1.0000\n",
    "# Epoch 00054: val_loss did not improve from 0.00224\n",
    "\n",
    "# Epoch 00054: saving model to input/finetune_weights_last_only.hdf5\n",
    "# 326/326 [==============================] - 49s 149ms/step - loss: 6.4169e-04 - acc: 1.0000 - val_loss: 0.0417 - val_acc: 1.0000\n",
    "# Epoch 55/60\n",
    "# 325/326 [============================>.] - ETA: 0s - loss: 5.4284e-04 - acc: 1.0000\n",
    "# Epoch 00055: val_loss did not improve from 0.00224\n",
    "\n",
    "# Epoch 00055: saving model to input/finetune_weights_last_only.hdf5\n",
    "# 326/326 [==============================] - 49s 149ms/step - loss: 5.7006e-04 - acc: 1.0000 - val_loss: 0.1300 - val_acc: 0.9375\n",
    "# Epoch 56/60\n",
    "# 325/326 [============================>.] - ETA: 0s - loss: 0.0011 - acc: 0.9996\n",
    "# Epoch 00056: val_loss did not improve from 0.00224\n",
    "\n",
    "# Epoch 00056: saving model to input/finetune_weights_last_only.hdf5\n",
    "# 326/326 [==============================] - 48s 148ms/step - loss: 0.0011 - acc: 0.9996 - val_loss: 0.1766 - val_acc: 0.9375\n",
    "# Epoch 57/60\n",
    "# 325/326 [============================>.] - ETA: 0s - loss: 0.0016 - acc: 0.9994\n",
    "# Epoch 00057: val_loss did not improve from 0.00224\n",
    "\n",
    "# Epoch 00057: saving model to input/finetune_weights_last_only.hdf5\n",
    "# 326/326 [==============================] - 48s 148ms/step - loss: 0.0016 - acc: 0.9994 - val_loss: 0.0048 - val_acc: 1.0000\n",
    "# Epoch 58/60\n",
    "# 325/326 [============================>.] - ETA: 0s - loss: 0.0029 - acc: 0.9988\n",
    "# Epoch 00058: val_loss did not improve from 0.00224\n",
    "\n",
    "# Epoch 00058: saving model to input/finetune_weights_last_only.hdf5\n",
    "# 326/326 [==============================] - 48s 148ms/step - loss: 0.0029 - acc: 0.9988 - val_loss: 0.1541 - val_acc: 0.9375\n",
    "# Epoch 59/60\n",
    "# 325/326 [============================>.] - ETA: 0s - loss: 8.3657e-04 - acc: 1.0000\n",
    "# Epoch 00059: val_loss did not improve from 0.00224\n",
    "\n",
    "# Epoch 00059: saving model to input/finetune_weights_last_only.hdf5\n",
    "# 326/326 [==============================] - 48s 149ms/step - loss: 8.3577e-04 - acc: 1.0000 - val_loss: 0.1734 - val_acc: 0.8125\n",
    "# Epoch 60/60\n",
    "# 325/326 [============================>.] - ETA: 0s - loss: 0.0037 - acc: 0.9983\n",
    "# Epoch 00060: val_loss improved from 0.00224 to 0.00010, saving model to input/finetune_weights_60_1.00_0.00.hdf5\n",
    "\n",
    "# Epoch 00060: saving model to input/finetune_weights_last_only.hdf5\n",
    "# 326/326 [==============================] - 49s 150ms/step - loss: 0.0037 - acc: 0.9983 - val_loss: 9.5270e-05 - val_acc: 1.0000\n",
    "# <tensorflow.python.keras.callbacks.History at 0x2669bbe2668>"
   ]
  },
  {
   "cell_type": "code",
   "execution_count": null,
   "metadata": {
    "colab": {},
    "colab_type": "code",
    "id": "maY0hRbh037C"
   },
   "outputs": [],
   "source": []
  }
 ],
 "metadata": {
  "accelerator": "GPU",
  "colab": {
   "collapsed_sections": [],
   "name": "inception tf Chest_Xray_VS_mod_1.1",
   "provenance": [],
   "version": "0.3.2"
  },
  "kernelspec": {
   "display_name": "Python [conda env:tensorflow]",
   "language": "python",
   "name": "conda-env-tensorflow-py"
  },
  "language_info": {
   "codemirror_mode": {
    "name": "ipython",
    "version": 3
   },
   "file_extension": ".py",
   "mimetype": "text/x-python",
   "name": "python",
   "nbconvert_exporter": "python",
   "pygments_lexer": "ipython3",
   "version": "3.6.7"
  }
 },
 "nbformat": 4,
 "nbformat_minor": 1
}
